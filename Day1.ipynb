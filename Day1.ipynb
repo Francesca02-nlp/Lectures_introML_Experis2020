{
  "nbformat": 4,
  "nbformat_minor": 0,
  "metadata": {
    "colab": {
      "name": "Day1.ipynb",
      "provenance": [],
      "include_colab_link": true
    },
    "kernelspec": {
      "name": "python3",
      "display_name": "Python 3"
    },
    "accelerator": "GPU"
  },
  "cells": [
    {
      "cell_type": "markdown",
      "metadata": {
        "id": "view-in-github",
        "colab_type": "text"
      },
      "source": [
        "<a href=\"https://colab.research.google.com/github/matteoalberti/Lectures_introML_Experis2020/blob/master/Day1.ipynb\" target=\"_parent\"><img src=\"https://colab.research.google.com/assets/colab-badge.svg\" alt=\"Open In Colab\"/></a>"
      ]
    },
    {
      "cell_type": "markdown",
      "metadata": {
        "id": "ExXS3Y0zvYBm"
      },
      "source": [
        "# **Welcome!**\n",
        "\n",
        "## Introduction to Machine Learning\n",
        "\n",
        "\n",
        "\n",
        "## **Lecturer :** Matteo Alberti\n",
        "\n",
        "![](data:image/jpeg;base64,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)\n",
        "\n",
        "*Contacts :* https://www.linkedin.com/in/matteo-alberti-170493/\n"
      ]
    },
    {
      "cell_type": "markdown",
      "metadata": {
        "id": "p1q8Z0nT_lf2"
      },
      "source": [
        "## Introduction to Supervised and Unsupervised Machine Learning"
      ]
    },
    {
      "cell_type": "markdown",
      "metadata": {
        "id": "OoLsN_emxn-X"
      },
      "source": [
        "![](https://www.diegocalvo.es/wp-content/uploads/2018/09/machine-learning-classification.png)\n"
      ]
    },
    {
      "cell_type": "markdown",
      "metadata": {
        "id": "OOK-Vucc_ejk"
      },
      "source": [
        "## Introduction to Linear and Logistic Regression Problem\n",
        "\n",
        "***Don't worry.. this will be the only formula that we'll use today***\n",
        "\n",
        "$y=f(x)$\n",
        "\n",
        "technically :\n",
        "\n",
        "$y=a + b*X + e$"
      ]
    },
    {
      "cell_type": "markdown",
      "metadata": {
        "id": "yLaDD2MfyJc5"
      },
      "source": [
        "The model is defined in terms of parameters called coefficients (beta), where there is one coefficient per input and an additional coefficient that provides the intercept or bias.\n",
        "\n",
        "For example, a problem with inputs X with m variables x1, x2, …, xm will have coefficients beta1, beta2, …, betam and beta0. A given input is predicted as the weighted sum of the inputs for the example and the coefficients.\n",
        "\n",
        "$yhat = alfa + beta_1 * x_1 + beta_2 * x_2 + … + beta_p * x_p + error$"
      ]
    },
    {
      "cell_type": "markdown",
      "metadata": {
        "id": "v5fgUZls2oTW"
      },
      "source": [
        "## An example of linear regression\n",
        "\n",
        "![](https://upload.wikimedia.org/wikipedia/commons/thumb/3/3a/Linear_regression.svg/1200px-Linear_regression.svg.png)\n",
        "\n",
        "## what do we minimize?\n",
        "\n",
        "![](https://www.statisticshowto.com/wp-content/uploads/2015/03/residual.png)\n",
        "\n",
        "## When don't we have a linear relationship between variables?\n",
        "\n",
        "![](https://i.stack.imgur.com/uB7pm.png)\n",
        "\n"
      ]
    },
    {
      "cell_type": "markdown",
      "metadata": {
        "id": "TmcMITLKpOVB"
      },
      "source": [
        "$$y=f(x)$$\n",
        "\n",
        "$$y= alfa + beta_1 * x^2 +. . . .e$$"
      ]
    },
    {
      "cell_type": "markdown",
      "metadata": {
        "id": "ObSFqVcaADch"
      },
      "source": [
        "### Models too simple or too complex?\n",
        "\n",
        "![](https://miro.medium.com/max/1125/1*_7OPgojau8hkiPUiHoGK_w.png)"
      ]
    },
    {
      "cell_type": "markdown",
      "metadata": {
        "id": "Wdr9A87awnpw"
      },
      "source": [
        "### Load Packages"
      ]
    },
    {
      "cell_type": "code",
      "metadata": {
        "id": "ZotsUUqDwn01",
        "outputId": "443a0429-83fd-42f4-921a-dfa98c06fbaf",
        "colab": {
          "base_uri": "https://localhost:8080/",
          "height": 70
        }
      },
      "source": [
        "import numpy as np\n",
        "import pandas as pd\n",
        "\n",
        "\n",
        "import matplotlib.pyplot as plt \n",
        "import seaborn as sns \n",
        "\n",
        "import sklearn.model_selection as model_selection\n",
        "from sklearn.preprocessing import StandardScaler\n",
        "\n",
        "%matplotlib inline"
      ],
      "execution_count": null,
      "outputs": [
        {
          "output_type": "stream",
          "text": [
            "/usr/local/lib/python3.6/dist-packages/statsmodels/tools/_testing.py:19: FutureWarning: pandas.util.testing is deprecated. Use the functions in the public API at pandas.testing instead.\n",
            "  import pandas.util.testing as tm\n"
          ],
          "name": "stderr"
        }
      ]
    },
    {
      "cell_type": "markdown",
      "metadata": {
        "id": "0SD9SUXWvP1w"
      },
      "source": [
        "## From zero to Linear Regression \n",
        "\n",
        "- Data Loading\n",
        "\n",
        "- Data Preparation\n",
        "\n",
        "- Understand the task! Supervised, Unsupervised Learning?\n",
        "\n",
        "- Assumptions & Models\n",
        "\n",
        "- Metrics and Evaluation\n",
        "\n",
        "- Test yourself!\n",
        "\n"
      ]
    },
    {
      "cell_type": "markdown",
      "metadata": {
        "id": "m3mrHa7Lv5Mu"
      },
      "source": [
        "## First Exapled (GUIDED!)\n",
        "\n",
        "\n",
        "\n",
        "### Boston house dataset\n",
        "\n",
        "- CRIM: Per capita crime rate by town\n",
        "- ZN: Proportion of residential land zoned for lots over 25,000 sq. ft\n",
        "- INDUS: Proportion of non-retail business acres per town\n",
        "- CHAS: Charles River dummy variable (= 1 if tract bounds river; 0 otherwise)\n",
        "- NOX: Nitric oxide concentration (parts per 10 million)\n",
        "- RM: Average number of rooms per dwelling\n",
        "- AGE: Proportion of owner-occupied units built prior to 1940\n",
        "- DIS: Weighted distances to five Boston employment centers\n",
        "- RAD: Index of accessibility to radial highways\n",
        "- TAX: Full-value property tax rate per 10,000$$\n",
        "- PTRATIO: Pupil-teacher ratio by town\n",
        "- B: 1000(Bk — 0.63)², where Bk is the proportion of [people of African American descent] by town\n",
        "- LSTAT: Percentage of lower status of the population\n",
        "- MEDV: Median value of owner-occupied homes in $1000s\n",
        "\n",
        "### Translated\n",
        "\n",
        "- CRIM: tasso di criminalità pro capite per città\n",
        "- ZN: Proporzione di terreno residenziale suddiviso in zone per lotti superiori a 25.000 piedi quadrati\n",
        "- INDUS: proporzione di acri di attività commerciali non al dettaglio per città\n",
        "- CHAS: variabile fittizia Charles River (= 1 se il tratto confina con il fiume; 0 altrimenti)\n",
        "- NOX: concentrazione di ossido nitrico (parti per 10 milioni)\n",
        "- RM: numero medio di stanze per abitazione\n",
        "- ETÀ: Proporzione di unità abitate dai proprietari costruite prima del 1940\n",
        "- DIS: distanze ponderate da cinque centri per l'impiego di Boston\n",
        "- RAD: Indice di accessibilità alle autostrade radiali\n",
        "- TASSA: aliquota dell'imposta sulla proprietà a valore intero per 10.000 $$\n",
        "- PTRATIO: rapporto alunni-insegnanti per città\n",
        "- B: 1000 (Bk - 0.63) ², dove Bk è la proporzione di [persone di discendenza afroamericana] per città\n",
        "- LSTAT: percentuale di status inferiore della popolazione\n",
        "- MEDV: valore medio delle case occupate dai proprietari in $ 1000"
      ]
    },
    {
      "cell_type": "code",
      "metadata": {
        "id": "Xovd4vE_uUu0"
      },
      "source": [
        "from sklearn.datasets import load_boston\n",
        "boston_dataset = load_boston()"
      ],
      "execution_count": null,
      "outputs": []
    },
    {
      "cell_type": "code",
      "metadata": {
        "id": "LHJ9hjCNuZfZ",
        "outputId": "af21a193-4109-4e4b-f31f-b83bd8f95b4e",
        "colab": {
          "base_uri": "https://localhost:8080/",
          "height": 34
        }
      },
      "source": [
        "print(boston_dataset.keys())"
      ],
      "execution_count": null,
      "outputs": [
        {
          "output_type": "stream",
          "text": [
            "dict_keys(['data', 'target', 'feature_names', 'DESCR', 'filename'])\n"
          ],
          "name": "stdout"
        }
      ]
    },
    {
      "cell_type": "code",
      "metadata": {
        "id": "dRJiTH9nw_Lk",
        "outputId": "4fb84c56-2541-4eb8-d7ec-f9c4a41b0552",
        "colab": {
          "base_uri": "https://localhost:8080/",
          "height": 195
        }
      },
      "source": [
        "boston = pd.DataFrame(boston_dataset.data, columns=boston_dataset.feature_names)\n",
        "boston.head()"
      ],
      "execution_count": null,
      "outputs": [
        {
          "output_type": "execute_result",
          "data": {
            "text/html": [
              "<div>\n",
              "<style scoped>\n",
              "    .dataframe tbody tr th:only-of-type {\n",
              "        vertical-align: middle;\n",
              "    }\n",
              "\n",
              "    .dataframe tbody tr th {\n",
              "        vertical-align: top;\n",
              "    }\n",
              "\n",
              "    .dataframe thead th {\n",
              "        text-align: right;\n",
              "    }\n",
              "</style>\n",
              "<table border=\"1\" class=\"dataframe\">\n",
              "  <thead>\n",
              "    <tr style=\"text-align: right;\">\n",
              "      <th></th>\n",
              "      <th>CRIM</th>\n",
              "      <th>ZN</th>\n",
              "      <th>INDUS</th>\n",
              "      <th>CHAS</th>\n",
              "      <th>NOX</th>\n",
              "      <th>RM</th>\n",
              "      <th>AGE</th>\n",
              "      <th>DIS</th>\n",
              "      <th>RAD</th>\n",
              "      <th>TAX</th>\n",
              "      <th>PTRATIO</th>\n",
              "      <th>B</th>\n",
              "      <th>LSTAT</th>\n",
              "    </tr>\n",
              "  </thead>\n",
              "  <tbody>\n",
              "    <tr>\n",
              "      <th>0</th>\n",
              "      <td>0.00632</td>\n",
              "      <td>18.0</td>\n",
              "      <td>2.31</td>\n",
              "      <td>0.0</td>\n",
              "      <td>0.538</td>\n",
              "      <td>6.575</td>\n",
              "      <td>65.2</td>\n",
              "      <td>4.0900</td>\n",
              "      <td>1.0</td>\n",
              "      <td>296.0</td>\n",
              "      <td>15.3</td>\n",
              "      <td>396.90</td>\n",
              "      <td>4.98</td>\n",
              "    </tr>\n",
              "    <tr>\n",
              "      <th>1</th>\n",
              "      <td>0.02731</td>\n",
              "      <td>0.0</td>\n",
              "      <td>7.07</td>\n",
              "      <td>0.0</td>\n",
              "      <td>0.469</td>\n",
              "      <td>6.421</td>\n",
              "      <td>78.9</td>\n",
              "      <td>4.9671</td>\n",
              "      <td>2.0</td>\n",
              "      <td>242.0</td>\n",
              "      <td>17.8</td>\n",
              "      <td>396.90</td>\n",
              "      <td>9.14</td>\n",
              "    </tr>\n",
              "    <tr>\n",
              "      <th>2</th>\n",
              "      <td>0.02729</td>\n",
              "      <td>0.0</td>\n",
              "      <td>7.07</td>\n",
              "      <td>0.0</td>\n",
              "      <td>0.469</td>\n",
              "      <td>7.185</td>\n",
              "      <td>61.1</td>\n",
              "      <td>4.9671</td>\n",
              "      <td>2.0</td>\n",
              "      <td>242.0</td>\n",
              "      <td>17.8</td>\n",
              "      <td>392.83</td>\n",
              "      <td>4.03</td>\n",
              "    </tr>\n",
              "    <tr>\n",
              "      <th>3</th>\n",
              "      <td>0.03237</td>\n",
              "      <td>0.0</td>\n",
              "      <td>2.18</td>\n",
              "      <td>0.0</td>\n",
              "      <td>0.458</td>\n",
              "      <td>6.998</td>\n",
              "      <td>45.8</td>\n",
              "      <td>6.0622</td>\n",
              "      <td>3.0</td>\n",
              "      <td>222.0</td>\n",
              "      <td>18.7</td>\n",
              "      <td>394.63</td>\n",
              "      <td>2.94</td>\n",
              "    </tr>\n",
              "    <tr>\n",
              "      <th>4</th>\n",
              "      <td>0.06905</td>\n",
              "      <td>0.0</td>\n",
              "      <td>2.18</td>\n",
              "      <td>0.0</td>\n",
              "      <td>0.458</td>\n",
              "      <td>7.147</td>\n",
              "      <td>54.2</td>\n",
              "      <td>6.0622</td>\n",
              "      <td>3.0</td>\n",
              "      <td>222.0</td>\n",
              "      <td>18.7</td>\n",
              "      <td>396.90</td>\n",
              "      <td>5.33</td>\n",
              "    </tr>\n",
              "  </tbody>\n",
              "</table>\n",
              "</div>"
            ],
            "text/plain": [
              "      CRIM    ZN  INDUS  CHAS    NOX  ...  RAD    TAX  PTRATIO       B  LSTAT\n",
              "0  0.00632  18.0   2.31   0.0  0.538  ...  1.0  296.0     15.3  396.90   4.98\n",
              "1  0.02731   0.0   7.07   0.0  0.469  ...  2.0  242.0     17.8  396.90   9.14\n",
              "2  0.02729   0.0   7.07   0.0  0.469  ...  2.0  242.0     17.8  392.83   4.03\n",
              "3  0.03237   0.0   2.18   0.0  0.458  ...  3.0  222.0     18.7  394.63   2.94\n",
              "4  0.06905   0.0   2.18   0.0  0.458  ...  3.0  222.0     18.7  396.90   5.33\n",
              "\n",
              "[5 rows x 13 columns]"
            ]
          },
          "metadata": {
            "tags": []
          },
          "execution_count": 4
        }
      ]
    },
    {
      "cell_type": "code",
      "metadata": {
        "id": "Jt_z9JvXw_PB",
        "outputId": "0e684f3d-4ae5-46fd-c281-9a6c1c2e9133",
        "colab": {
          "base_uri": "https://localhost:8080/",
          "height": 34
        }
      },
      "source": [
        "# Which is the shape of our data?\n",
        "\n",
        "boston.shape"
      ],
      "execution_count": null,
      "outputs": [
        {
          "output_type": "execute_result",
          "data": {
            "text/plain": [
              "(506, 13)"
            ]
          },
          "metadata": {
            "tags": []
          },
          "execution_count": 5
        }
      ]
    },
    {
      "cell_type": "code",
      "metadata": {
        "id": "jjUdWfGjw_VV",
        "outputId": "257df2e1-46f2-4277-feb2-8b1af8b01096",
        "colab": {
          "base_uri": "https://localhost:8080/",
          "height": 195
        }
      },
      "source": [
        "# What about the target?\n",
        "\n",
        "boston['MEDV'] = boston_dataset.target\n",
        "boston.head()"
      ],
      "execution_count": null,
      "outputs": [
        {
          "output_type": "execute_result",
          "data": {
            "text/html": [
              "<div>\n",
              "<style scoped>\n",
              "    .dataframe tbody tr th:only-of-type {\n",
              "        vertical-align: middle;\n",
              "    }\n",
              "\n",
              "    .dataframe tbody tr th {\n",
              "        vertical-align: top;\n",
              "    }\n",
              "\n",
              "    .dataframe thead th {\n",
              "        text-align: right;\n",
              "    }\n",
              "</style>\n",
              "<table border=\"1\" class=\"dataframe\">\n",
              "  <thead>\n",
              "    <tr style=\"text-align: right;\">\n",
              "      <th></th>\n",
              "      <th>CRIM</th>\n",
              "      <th>ZN</th>\n",
              "      <th>INDUS</th>\n",
              "      <th>CHAS</th>\n",
              "      <th>NOX</th>\n",
              "      <th>RM</th>\n",
              "      <th>AGE</th>\n",
              "      <th>DIS</th>\n",
              "      <th>RAD</th>\n",
              "      <th>TAX</th>\n",
              "      <th>PTRATIO</th>\n",
              "      <th>B</th>\n",
              "      <th>LSTAT</th>\n",
              "      <th>MEDV</th>\n",
              "    </tr>\n",
              "  </thead>\n",
              "  <tbody>\n",
              "    <tr>\n",
              "      <th>0</th>\n",
              "      <td>0.00632</td>\n",
              "      <td>18.0</td>\n",
              "      <td>2.31</td>\n",
              "      <td>0.0</td>\n",
              "      <td>0.538</td>\n",
              "      <td>6.575</td>\n",
              "      <td>65.2</td>\n",
              "      <td>4.0900</td>\n",
              "      <td>1.0</td>\n",
              "      <td>296.0</td>\n",
              "      <td>15.3</td>\n",
              "      <td>396.90</td>\n",
              "      <td>4.98</td>\n",
              "      <td>24.0</td>\n",
              "    </tr>\n",
              "    <tr>\n",
              "      <th>1</th>\n",
              "      <td>0.02731</td>\n",
              "      <td>0.0</td>\n",
              "      <td>7.07</td>\n",
              "      <td>0.0</td>\n",
              "      <td>0.469</td>\n",
              "      <td>6.421</td>\n",
              "      <td>78.9</td>\n",
              "      <td>4.9671</td>\n",
              "      <td>2.0</td>\n",
              "      <td>242.0</td>\n",
              "      <td>17.8</td>\n",
              "      <td>396.90</td>\n",
              "      <td>9.14</td>\n",
              "      <td>21.6</td>\n",
              "    </tr>\n",
              "    <tr>\n",
              "      <th>2</th>\n",
              "      <td>0.02729</td>\n",
              "      <td>0.0</td>\n",
              "      <td>7.07</td>\n",
              "      <td>0.0</td>\n",
              "      <td>0.469</td>\n",
              "      <td>7.185</td>\n",
              "      <td>61.1</td>\n",
              "      <td>4.9671</td>\n",
              "      <td>2.0</td>\n",
              "      <td>242.0</td>\n",
              "      <td>17.8</td>\n",
              "      <td>392.83</td>\n",
              "      <td>4.03</td>\n",
              "      <td>34.7</td>\n",
              "    </tr>\n",
              "    <tr>\n",
              "      <th>3</th>\n",
              "      <td>0.03237</td>\n",
              "      <td>0.0</td>\n",
              "      <td>2.18</td>\n",
              "      <td>0.0</td>\n",
              "      <td>0.458</td>\n",
              "      <td>6.998</td>\n",
              "      <td>45.8</td>\n",
              "      <td>6.0622</td>\n",
              "      <td>3.0</td>\n",
              "      <td>222.0</td>\n",
              "      <td>18.7</td>\n",
              "      <td>394.63</td>\n",
              "      <td>2.94</td>\n",
              "      <td>33.4</td>\n",
              "    </tr>\n",
              "    <tr>\n",
              "      <th>4</th>\n",
              "      <td>0.06905</td>\n",
              "      <td>0.0</td>\n",
              "      <td>2.18</td>\n",
              "      <td>0.0</td>\n",
              "      <td>0.458</td>\n",
              "      <td>7.147</td>\n",
              "      <td>54.2</td>\n",
              "      <td>6.0622</td>\n",
              "      <td>3.0</td>\n",
              "      <td>222.0</td>\n",
              "      <td>18.7</td>\n",
              "      <td>396.90</td>\n",
              "      <td>5.33</td>\n",
              "      <td>36.2</td>\n",
              "    </tr>\n",
              "  </tbody>\n",
              "</table>\n",
              "</div>"
            ],
            "text/plain": [
              "      CRIM    ZN  INDUS  CHAS    NOX  ...    TAX  PTRATIO       B  LSTAT  MEDV\n",
              "0  0.00632  18.0   2.31   0.0  0.538  ...  296.0     15.3  396.90   4.98  24.0\n",
              "1  0.02731   0.0   7.07   0.0  0.469  ...  242.0     17.8  396.90   9.14  21.6\n",
              "2  0.02729   0.0   7.07   0.0  0.469  ...  242.0     17.8  392.83   4.03  34.7\n",
              "3  0.03237   0.0   2.18   0.0  0.458  ...  222.0     18.7  394.63   2.94  33.4\n",
              "4  0.06905   0.0   2.18   0.0  0.458  ...  222.0     18.7  396.90   5.33  36.2\n",
              "\n",
              "[5 rows x 14 columns]"
            ]
          },
          "metadata": {
            "tags": []
          },
          "execution_count": 6
        }
      ]
    },
    {
      "cell_type": "markdown",
      "metadata": {
        "id": "XKAaIyUnxqzX"
      },
      "source": [
        "### Data Preprocessing\n",
        "\n",
        "***what should I check about my data?***\n"
      ]
    },
    {
      "cell_type": "code",
      "metadata": {
        "id": "sfjxoLzqw_Sq",
        "outputId": "14de2251-df19-4d5e-eef7-aed60b496c18",
        "colab": {
          "base_uri": "https://localhost:8080/"
        }
      },
      "source": [
        "# There are any missing values? Look dropna function!\n",
        "\n",
        "boston.isnull().sum()"
      ],
      "execution_count": null,
      "outputs": [
        {
          "output_type": "execute_result",
          "data": {
            "text/plain": [
              "CRIM       0\n",
              "ZN         0\n",
              "INDUS      0\n",
              "CHAS       0\n",
              "NOX        0\n",
              "RM         0\n",
              "AGE        0\n",
              "DIS        0\n",
              "RAD        0\n",
              "TAX        0\n",
              "PTRATIO    0\n",
              "B          0\n",
              "LSTAT      0\n",
              "MEDV       0\n",
              "dtype: int64"
            ]
          },
          "metadata": {
            "tags": []
          },
          "execution_count": 7
        }
      ]
    },
    {
      "cell_type": "markdown",
      "metadata": {
        "id": "KOzXr5gQ4ci5"
      },
      "source": [
        "## EDA and Assumptions\n",
        "\n",
        "- When we use parametetric statistical models\n"
      ]
    },
    {
      "cell_type": "code",
      "metadata": {
        "id": "wHsJaUYw4cuD"
      },
      "source": [
        "\n",
        "# What is EDA? Exploratory Data Analysis, in this case : looking for the relationship of the target variable with other features.\n",
        "\n",
        "sns.set(rc={'figure.figsize':(11.7,8.27)})\n",
        "sns.distplot(boston['MEDV'], bins=30)\n",
        "plt.show()"
      ],
      "execution_count": null,
      "outputs": []
    },
    {
      "cell_type": "markdown",
      "metadata": {
        "id": "SJCF5IYrztx7"
      },
      "source": [
        "*What Should I see from this plot??*\n",
        "\n",
        "- Data distribution!\n"
      ]
    },
    {
      "cell_type": "markdown",
      "metadata": {
        "id": "nJQFE8xd0lZ2"
      },
      "source": [
        "### Normal Distribution"
      ]
    },
    {
      "cell_type": "code",
      "metadata": {
        "id": "eW5YGKjY0Jhn"
      },
      "source": [
        "from scipy.stats import norm\n",
        "\n",
        "# generate random numbers from N(0,1)\n",
        "data_normal = norm.rvs(size=10000,loc=0,scale=1)\n",
        "\n",
        "ax = sns.distplot(data_normal,\n",
        "                  bins=100,\n",
        "                  kde=True,\n",
        "                  color='green',\n",
        "                  hist_kws={\"linewidth\": 15,'alpha':1})\n",
        "\n",
        "ax.set(xlabel='Normal Distribution', ylabel='Frequency')"
      ],
      "execution_count": null,
      "outputs": []
    },
    {
      "cell_type": "markdown",
      "metadata": {
        "id": "e3tsNgr_1RAe"
      },
      "source": [
        "There are many other distributions...\n",
        "\n",
        "*Poisson, Binomial, Trinomial, Gamma, Exponential, Bernulli, . . . .*\n",
        "\n",
        "**But what does it mean converge into a distribution?**"
      ]
    },
    {
      "cell_type": "code",
      "metadata": {
        "id": "b5bH2kdQysDw"
      },
      "source": [
        "# Bernulli Example\n",
        "\n",
        "# A Bernoulli distribution has only two possible outcomes, namely 1 (success) and 0 (failure)  | TESTA O CROCE!\n",
        "\n",
        "from scipy.stats import bernoulli\n",
        "data_bern = bernoulli.rvs(size=10000,p=0.5)\n",
        "\n",
        "ax= sns.distplot(data_bern,\n",
        "                 kde=False,\n",
        "                 color=\"skyblue\",\n",
        "                 hist_kws={\"linewidth\": 15,'alpha':1})\n",
        "\n",
        "ax.set(xlabel='Bernoulli Distribution', ylabel='Frequency')\n",
        "\n"
      ],
      "execution_count": null,
      "outputs": []
    },
    {
      "cell_type": "markdown",
      "metadata": {
        "id": "twV2v7Ca1-Hs"
      },
      "source": [
        "Come back to our Boston Data set!\n",
        "\n",
        "\n",
        "***How can I check if normality is satisfied?***\n",
        "\n",
        "- Graphical tests\n",
        "- Shapiro Wilk test\n",
        "\n"
      ]
    },
    {
      "cell_type": "code",
      "metadata": {
        "id": "PQWxvjJi2ENE"
      },
      "source": [
        "from statsmodels.graphics.gofplots import qqplot\n",
        "\n",
        "qqplot(boston['MEDV'], line='s')\n",
        "plt.show()"
      ],
      "execution_count": null,
      "outputs": []
    },
    {
      "cell_type": "markdown",
      "metadata": {
        "id": "a2zNTwvp_FLe"
      },
      "source": [
        "### Which are our Outliers?"
      ]
    },
    {
      "cell_type": "code",
      "metadata": {
        "id": "1-hZ_90I-w4J"
      },
      "source": [
        "## Suggestion! But consider that creativity is your best tool!\n",
        "\n",
        "sns.boxplot(x=boston['MEDV']) \n",
        "\n"
      ],
      "execution_count": null,
      "outputs": []
    },
    {
      "cell_type": "markdown",
      "metadata": {
        "id": "ltHSjFY9_kGM"
      },
      "source": [
        "#### When you finish you can test with the above functions or use the a no-grafical test"
      ]
    },
    {
      "cell_type": "code",
      "metadata": {
        "id": "VywnRRFo3oDa",
        "outputId": "d1575d70-c3d6-4e53-fe9f-3b852ab869be",
        "colab": {
          "base_uri": "https://localhost:8080/"
        }
      },
      "source": [
        "# Shapiro-Wilk Test\n",
        "\n",
        "from scipy.stats import shapiro\n",
        "\n",
        "stat, p = shapiro(boston['MEDV'])\n",
        "print('Statistics=%.3f, p=%.3f' % (stat, p))\n",
        "# interpret\n",
        "alpha = 0.05\n",
        "if p > alpha:\n",
        "\tprint('Sample looks Gaussian (fail to reject H0)')\n",
        "else:\n",
        "\tprint('Sample does not look Gaussian (reject H0)')"
      ],
      "execution_count": null,
      "outputs": [
        {
          "output_type": "stream",
          "text": [
            "Statistics=0.917, p=0.000\n",
            "Sample does not look Gaussian (reject H0)\n"
          ],
          "name": "stdout"
        }
      ]
    },
    {
      "cell_type": "markdown",
      "metadata": {
        "id": "-kcko3KcBdTu"
      },
      "source": [
        "## Multi-collinearity\n",
        "\n",
        "Multicollinearity happens when independent variables in the regression model are highly correlated to each other. It makes it hard for interpretation of model and also creates overfitting problem.\n",
        "\n",
        "**But the main problem is the following :**\n",
        "\n",
        "- When independent variables are highly correlated, change in one variable would cause change to another and so the model results fluctuate significantly.\n",
        "\n",
        "\n",
        "### Correlation Matrix\n",
        "\n",
        "Next, we create a correlation matrix that measures the linear relationships between the variables. The correlation matrix can be formed by using the corr function from the pandas dataframe library. We will use the heatmap function from the seaborn library to plot the correlation matrix.\n"
      ]
    },
    {
      "cell_type": "code",
      "metadata": {
        "id": "WGJk7OYYBdps"
      },
      "source": [
        "correlation_matrix = boston.corr().round(2)\n",
        "# annot = True to print the values inside the square\n",
        "sns.heatmap(data=correlation_matrix, annot=True)"
      ],
      "execution_count": null,
      "outputs": []
    },
    {
      "cell_type": "markdown",
      "metadata": {
        "id": "XgKZzKh2CLsp"
      },
      "source": [
        "*Which is the Correlation Matrix range?*\n",
        "\n",
        "- from :\n",
        "- to :\n",
        "\n",
        "\n",
        "*Which features will we select?*\n",
        "\n",
        "*Multi-Collinearity?*\n"
      ]
    },
    {
      "cell_type": "markdown",
      "metadata": {
        "id": "KxCKuGDLFVtJ"
      },
      "source": [
        "## Homoschedasticity\n",
        "\n",
        "![](https://miro.medium.com/max/700/1*V-ZwpBFum-jP710q_fyjBA.png)\n",
        "\n",
        "- Often occurs in those data sets which have a large range between the largest and the smallest observed values i.e. when there are outliers.\n",
        "- When model is not correctly specified.\n",
        "- If observations are mixed with different measures of scale.\n",
        "- When incorrect transformation of data is used to perform the regression.\n",
        "Skewness in the distribution of a regressor, and may be some other sources."
      ]
    },
    {
      "cell_type": "markdown",
      "metadata": {
        "id": "wETLuaR_CMdC"
      },
      "source": [
        "### Show the final Dataframe with all the selected columns"
      ]
    },
    {
      "cell_type": "code",
      "metadata": {
        "id": "eVY03Pk8CUXK"
      },
      "source": [
        "# select by name df=[[]] | select by .iloc func\n",
        "\n",
        "boston2 = boston.copy()\n",
        "\n",
        "boston2 = boston2[['LSTAT', 'PTRATIO', 'RM', 'INDUS', 'CRIM', 'MEDV']]\n",
        "\n",
        "boston2.head()"
      ],
      "execution_count": null,
      "outputs": []
    },
    {
      "cell_type": "markdown",
      "metadata": {
        "id": "crfXpzjB6rwZ"
      },
      "source": [
        "## Data Splitting\n",
        "\n",
        "There are lots of ways to split our data and lots of packages\n",
        "\n",
        "- Divided manually\n",
        "- build-in function inside sklearn\n",
        "  - train_test_val\n",
        "  - . . . \n",
        "\n",
        "\n",
        "And also depend on data type / dataset size\n"
      ]
    },
    {
      "cell_type": "code",
      "metadata": {
        "id": "MSkbLDvKBw6c",
        "outputId": "c621120f-c9e2-4e04-9c38-d3af4ffa1fd8",
        "colab": {
          "base_uri": "https://localhost:8080/",
          "height": 34
        }
      },
      "source": [
        "boston2.shape"
      ],
      "execution_count": null,
      "outputs": [
        {
          "output_type": "execute_result",
          "data": {
            "text/plain": [
              "(506, 6)"
            ]
          },
          "metadata": {
            "tags": []
          },
          "execution_count": 16
        }
      ]
    },
    {
      "cell_type": "code",
      "metadata": {
        "id": "1jBrwyLrBo8J"
      },
      "source": [
        "training = boston2[:round(boston2.shape[0]/100*70)]\n",
        "test = boston2[round(boston2.shape[0]/100*70):]"
      ],
      "execution_count": null,
      "outputs": []
    },
    {
      "cell_type": "code",
      "metadata": {
        "id": "lJELnyecCWFD",
        "outputId": "1a496cdc-7a49-4b76-c668-f054f4786749",
        "colab": {
          "base_uri": "https://localhost:8080/",
          "height": 34
        }
      },
      "source": [
        "print(training.shape, test.shape, training.shape[0] + test.shape[0])"
      ],
      "execution_count": null,
      "outputs": [
        {
          "output_type": "stream",
          "text": [
            "(354, 6) (152, 6) 506\n"
          ],
          "name": "stdout"
        }
      ]
    },
    {
      "cell_type": "code",
      "metadata": {
        "id": "McgotHDkEbkC"
      },
      "source": [
        "#boston2.iloc[:,-1]\n",
        "\n",
        "#boston2[['MEDV']]"
      ],
      "execution_count": null,
      "outputs": []
    },
    {
      "cell_type": "code",
      "metadata": {
        "id": "FYscAUfQVvzs"
      },
      "source": [
        ""
      ],
      "execution_count": null,
      "outputs": []
    },
    {
      "cell_type": "code",
      "metadata": {
        "id": "qU6ewkcJ6r9A"
      },
      "source": [
        "X_train, X_test, y_train, y_test = model_selection.train_test_split(boston2[['LSTAT', 'PTRATIO', 'RM', 'INDUS', 'CRIM']], \n",
        "                                                                    boston2.iloc[:,-1], \n",
        "                                                                    train_size=0.7,\n",
        "                                                                    test_size=0.3, random_state=10)"
      ],
      "execution_count": null,
      "outputs": []
    },
    {
      "cell_type": "code",
      "metadata": {
        "id": "n4gd7jHDDQ7O"
      },
      "source": [
        "print (\"Original: \", boston2.shape, \"\\n\")\n",
        "\n",
        "print (\"X_train: \", X_train.shape)\n",
        "print (\"y_train: \", y_train.shape)\n",
        "\n",
        "print(\"X_test: \", X_test.shape)\n",
        "print (\"y_test: {} \\n \".format(y_test.shape))\n",
        "\n",
        "print (\"Reconstruct X : \", X_train.shape[0] + X_test.shape[0])\n",
        "\n",
        "# Check also Y"
      ],
      "execution_count": null,
      "outputs": []
    },
    {
      "cell_type": "markdown",
      "metadata": {
        "id": "6EfpFrc3EUsL"
      },
      "source": [
        "### K-fold cross-validation\n",
        "\n",
        "![](https://static.packt-cdn.com/products/9781789617740/graphics/b04c27c5-7e3f-428a-9aa6-bb3ebcd3584c.png)"
      ]
    },
    {
      "cell_type": "markdown",
      "metadata": {
        "id": "hw8SHcfd9EtF"
      },
      "source": [
        "## Model Definition & Traning"
      ]
    },
    {
      "cell_type": "code",
      "metadata": {
        "id": "MPx4In6-IAYk",
        "outputId": "b010279c-f0fe-4895-c826-e47615f5925d",
        "colab": {
          "base_uri": "https://localhost:8080/",
          "height": 195
        }
      },
      "source": [
        "boston2.head()"
      ],
      "execution_count": null,
      "outputs": [
        {
          "output_type": "execute_result",
          "data": {
            "text/html": [
              "<div>\n",
              "<style scoped>\n",
              "    .dataframe tbody tr th:only-of-type {\n",
              "        vertical-align: middle;\n",
              "    }\n",
              "\n",
              "    .dataframe tbody tr th {\n",
              "        vertical-align: top;\n",
              "    }\n",
              "\n",
              "    .dataframe thead th {\n",
              "        text-align: right;\n",
              "    }\n",
              "</style>\n",
              "<table border=\"1\" class=\"dataframe\">\n",
              "  <thead>\n",
              "    <tr style=\"text-align: right;\">\n",
              "      <th></th>\n",
              "      <th>LSTAT</th>\n",
              "      <th>PTRATIO</th>\n",
              "      <th>RM</th>\n",
              "      <th>INDUS</th>\n",
              "      <th>CRIM</th>\n",
              "      <th>MEDV</th>\n",
              "    </tr>\n",
              "  </thead>\n",
              "  <tbody>\n",
              "    <tr>\n",
              "      <th>0</th>\n",
              "      <td>4.98</td>\n",
              "      <td>15.3</td>\n",
              "      <td>6.575</td>\n",
              "      <td>2.31</td>\n",
              "      <td>0.00632</td>\n",
              "      <td>24.0</td>\n",
              "    </tr>\n",
              "    <tr>\n",
              "      <th>1</th>\n",
              "      <td>9.14</td>\n",
              "      <td>17.8</td>\n",
              "      <td>6.421</td>\n",
              "      <td>7.07</td>\n",
              "      <td>0.02731</td>\n",
              "      <td>21.6</td>\n",
              "    </tr>\n",
              "    <tr>\n",
              "      <th>2</th>\n",
              "      <td>4.03</td>\n",
              "      <td>17.8</td>\n",
              "      <td>7.185</td>\n",
              "      <td>7.07</td>\n",
              "      <td>0.02729</td>\n",
              "      <td>34.7</td>\n",
              "    </tr>\n",
              "    <tr>\n",
              "      <th>3</th>\n",
              "      <td>2.94</td>\n",
              "      <td>18.7</td>\n",
              "      <td>6.998</td>\n",
              "      <td>2.18</td>\n",
              "      <td>0.03237</td>\n",
              "      <td>33.4</td>\n",
              "    </tr>\n",
              "    <tr>\n",
              "      <th>4</th>\n",
              "      <td>5.33</td>\n",
              "      <td>18.7</td>\n",
              "      <td>7.147</td>\n",
              "      <td>2.18</td>\n",
              "      <td>0.06905</td>\n",
              "      <td>36.2</td>\n",
              "    </tr>\n",
              "  </tbody>\n",
              "</table>\n",
              "</div>"
            ],
            "text/plain": [
              "   LSTAT  PTRATIO     RM  INDUS     CRIM  MEDV\n",
              "0   4.98     15.3  6.575   2.31  0.00632  24.0\n",
              "1   9.14     17.8  6.421   7.07  0.02731  21.6\n",
              "2   4.03     17.8  7.185   7.07  0.02729  34.7\n",
              "3   2.94     18.7  6.998   2.18  0.03237  33.4\n",
              "4   5.33     18.7  7.147   2.18  0.06905  36.2"
            ]
          },
          "metadata": {
            "tags": []
          },
          "execution_count": 23
        }
      ]
    },
    {
      "cell_type": "code",
      "metadata": {
        "id": "XhMGd4P39E29",
        "outputId": "731c5adc-88e7-4b85-dc58-1503db9493d4",
        "colab": {
          "base_uri": "https://localhost:8080/",
          "height": 34
        }
      },
      "source": [
        "from sklearn.linear_model import LinearRegression\n",
        "\n",
        "# Fitting the model\n",
        "boston_model = LinearRegression()\n",
        "boston_model.fit(X_train, y_train)\n",
        "\n"
      ],
      "execution_count": null,
      "outputs": [
        {
          "output_type": "execute_result",
          "data": {
            "text/plain": [
              "LinearRegression(copy_X=True, fit_intercept=True, n_jobs=None, normalize=False)"
            ]
          },
          "metadata": {
            "tags": []
          },
          "execution_count": 24
        }
      ]
    },
    {
      "cell_type": "code",
      "metadata": {
        "id": "DMjAji9O_OOo",
        "outputId": "34a8a0b1-59c1-494f-f765-4f020187929a",
        "colab": {
          "base_uri": "https://localhost:8080/",
          "height": 34
        }
      },
      "source": [
        "### How do I evaluate my model?  P.s. look at .score funcion ok sklearn!\n",
        "\n",
        "# Returning the R^2 for the model\n",
        "boston_r2 = boston_model.score(X_test, y_test)\n",
        "print('R^2: {0}'.format(boston_r2))"
      ],
      "execution_count": null,
      "outputs": [
        {
          "output_type": "stream",
          "text": [
            "R^2: 0.6730386181763135\n"
          ],
          "name": "stdout"
        }
      ]
    },
    {
      "cell_type": "markdown",
      "metadata": {
        "id": "jmVxDrueHJAB"
      },
      "source": [
        "### We have lots of metrics of evaluation \n",
        "\n",
        "*Let me show you the most relevant*\n",
        "\n",
        "- Mean Squared Error**(MSE)**        \n",
        "\n",
        "$$ MSE = \\frac {\\sum (y - y_{hat})^2}{N} $$\n",
        "\n",
        "it penalizes even a small error which leads to over-estimation of how bad the model is\n",
        "\n",
        "- Root-Mean-Squared-Error**(RMSE)**\n",
        "\n",
        "$$ RMSE = \\sqrt \\frac {\\sum (y - y_{hat})^2}{N} $$\n",
        "\n",
        "This implies that RMSE is useful when large errors are undesired.\n",
        "\n",
        "- Mean-Absolute-Error**(MAE)**\n",
        "\n",
        "$$ MSE = \\frac {\\sum |y - y_{hat}|}{N} $$\n",
        "\n",
        "The MAE is more robust to outliers and does not penalize the errors as extremely as mse\n",
        "\n"
      ]
    },
    {
      "cell_type": "markdown",
      "metadata": {
        "id": "mgieAXI1LXyV"
      },
      "source": [
        "\n",
        "- **R²** or Coefficient of Determination.\n",
        "\n",
        "*Question :* which is the range of $R^2$? Why?\n",
        "\n",
        "- **Adjusted R²**\n",
        "\n",
        "As $R^2$ but penalize too variables"
      ]
    },
    {
      "cell_type": "markdown",
      "metadata": {
        "id": "4Dbv4b_PMUtS"
      },
      "source": [
        "## Question from your manager : Which features are the most relevant?\n"
      ]
    },
    {
      "cell_type": "code",
      "metadata": {
        "id": "6Q6_h9q7Moz_"
      },
      "source": [
        "importance = boston_model.coef_  ## What is .coef???\n",
        "\n",
        "# summarize feature importance\n",
        "for i,v in enumerate(importance):\n",
        "\tprint('Feature: %0d, Score: %.5f' % (i,v))\n",
        " \n",
        "# plot feature importance\n",
        "plt.bar([x for x in range(len(importance))], importance)\n",
        "plt.show()"
      ],
      "execution_count": null,
      "outputs": []
    },
    {
      "cell_type": "markdown",
      "metadata": {
        "id": "7qlEIoS9TH1P"
      },
      "source": [
        "## Now.. Try to predict!"
      ]
    },
    {
      "cell_type": "code",
      "metadata": {
        "id": "cCfcJDMpNPmx",
        "outputId": "217f8953-477f-4348-e29a-3e14c26a9ac6",
        "colab": {
          "base_uri": "https://localhost:8080/",
          "height": 34
        }
      },
      "source": [
        "y_test.shape[0]"
      ],
      "execution_count": null,
      "outputs": [
        {
          "output_type": "execute_result",
          "data": {
            "text/plain": [
              "152"
            ]
          },
          "metadata": {
            "tags": []
          },
          "execution_count": 27
        }
      ]
    },
    {
      "cell_type": "markdown",
      "metadata": {
        "id": "WrgTfMknHq3p"
      },
      "source": [
        "# BREAK!!"
      ]
    },
    {
      "cell_type": "markdown",
      "metadata": {
        "id": "JMtj-P02OLJN"
      },
      "source": [
        "Do yourself on another dataset!\n",
        "\n",
        "**Need a suggest?**\n",
        "\n",
        "- Try with : **load_diabetes**\n",
        "- Try with : **Kaggle**  : www.kaggle.com\n",
        "\n",
        "OR . . . follow this tutorial\n",
        "\n",
        "\n"
      ]
    },
    {
      "cell_type": "markdown",
      "metadata": {
        "id": "rtvs3HM9OvcH"
      },
      "source": [
        "Do you want any good reference for learning in easy and good way?\n",
        "\n",
        "- https://machinelearningmastery.com/"
      ]
    },
    {
      "cell_type": "markdown",
      "metadata": {
        "id": "HuA7FJVUY-HU"
      },
      "source": [
        "# Or we can make it a bit more complex!"
      ]
    },
    {
      "cell_type": "markdown",
      "metadata": {
        "id": "-o-ouKoSG2wD"
      },
      "source": [
        "### Load Data"
      ]
    },
    {
      "cell_type": "code",
      "metadata": {
        "id": "-z0XWeZsG3lh"
      },
      "source": [
        "df_flights = pd.read_csv('https://raw.githubusercontent.com/ismayc/pnwflights14/master/data/flights.csv')"
      ],
      "execution_count": null,
      "outputs": []
    },
    {
      "cell_type": "markdown",
      "metadata": {
        "id": "L2p4QsUoNLOz"
      },
      "source": [
        "## 1.2  Step 2. Check the number of rows and columns and print column names"
      ]
    },
    {
      "cell_type": "code",
      "metadata": {
        "id": "jLLcYhYmNGyX",
        "outputId": "18c1c83f-deaf-461c-b817-da3360b923d7",
        "colab": {
          "base_uri": "https://localhost:8080/"
        }
      },
      "source": [
        "df_flights.shape"
      ],
      "execution_count": null,
      "outputs": [
        {
          "output_type": "execute_result",
          "data": {
            "text/plain": [
              "(162049, 16)"
            ]
          },
          "metadata": {
            "tags": []
          },
          "execution_count": 5
        }
      ]
    },
    {
      "cell_type": "code",
      "metadata": {
        "id": "SFrkOeEXNTcF",
        "outputId": "465744ed-c78e-4360-d0b4-6d3cc165fc7b",
        "colab": {
          "base_uri": "https://localhost:8080/"
        }
      },
      "source": [
        "df_flights.columns"
      ],
      "execution_count": null,
      "outputs": [
        {
          "output_type": "execute_result",
          "data": {
            "text/plain": [
              "Index(['year', 'month', 'day', 'dep_time', 'dep_delay', 'arr_time',\n",
              "       'arr_delay', 'carrier', 'tailnum', 'flight', 'origin', 'dest',\n",
              "       'air_time', 'distance', 'hour', 'minute'],\n",
              "      dtype='object')"
            ]
          },
          "metadata": {
            "tags": []
          },
          "execution_count": 6
        }
      ]
    },
    {
      "cell_type": "markdown",
      "metadata": {
        "id": "31zVt0duNal0"
      },
      "source": [
        "## 1.3  Step 3. Print first 5 rows of the dataset.\n"
      ]
    },
    {
      "cell_type": "code",
      "metadata": {
        "id": "fuNOxSoTNdE-",
        "outputId": "078e34e7-189e-4680-b5a7-19304728130b",
        "colab": {
          "base_uri": "https://localhost:8080/",
          "height": 198
        }
      },
      "source": [
        "df_flights.head(5)"
      ],
      "execution_count": null,
      "outputs": [
        {
          "output_type": "execute_result",
          "data": {
            "text/html": [
              "<div>\n",
              "<style scoped>\n",
              "    .dataframe tbody tr th:only-of-type {\n",
              "        vertical-align: middle;\n",
              "    }\n",
              "\n",
              "    .dataframe tbody tr th {\n",
              "        vertical-align: top;\n",
              "    }\n",
              "\n",
              "    .dataframe thead th {\n",
              "        text-align: right;\n",
              "    }\n",
              "</style>\n",
              "<table border=\"1\" class=\"dataframe\">\n",
              "  <thead>\n",
              "    <tr style=\"text-align: right;\">\n",
              "      <th></th>\n",
              "      <th>year</th>\n",
              "      <th>month</th>\n",
              "      <th>day</th>\n",
              "      <th>dep_time</th>\n",
              "      <th>dep_delay</th>\n",
              "      <th>arr_time</th>\n",
              "      <th>arr_delay</th>\n",
              "      <th>carrier</th>\n",
              "      <th>tailnum</th>\n",
              "      <th>flight</th>\n",
              "      <th>origin</th>\n",
              "      <th>dest</th>\n",
              "      <th>air_time</th>\n",
              "      <th>distance</th>\n",
              "      <th>hour</th>\n",
              "      <th>minute</th>\n",
              "    </tr>\n",
              "  </thead>\n",
              "  <tbody>\n",
              "    <tr>\n",
              "      <th>0</th>\n",
              "      <td>2014</td>\n",
              "      <td>1</td>\n",
              "      <td>1</td>\n",
              "      <td>1.0</td>\n",
              "      <td>96.0</td>\n",
              "      <td>235.0</td>\n",
              "      <td>70.0</td>\n",
              "      <td>AS</td>\n",
              "      <td>N508AS</td>\n",
              "      <td>145</td>\n",
              "      <td>PDX</td>\n",
              "      <td>ANC</td>\n",
              "      <td>194.0</td>\n",
              "      <td>1542</td>\n",
              "      <td>0.0</td>\n",
              "      <td>1.0</td>\n",
              "    </tr>\n",
              "    <tr>\n",
              "      <th>1</th>\n",
              "      <td>2014</td>\n",
              "      <td>1</td>\n",
              "      <td>1</td>\n",
              "      <td>4.0</td>\n",
              "      <td>-6.0</td>\n",
              "      <td>738.0</td>\n",
              "      <td>-23.0</td>\n",
              "      <td>US</td>\n",
              "      <td>N195UW</td>\n",
              "      <td>1830</td>\n",
              "      <td>SEA</td>\n",
              "      <td>CLT</td>\n",
              "      <td>252.0</td>\n",
              "      <td>2279</td>\n",
              "      <td>0.0</td>\n",
              "      <td>4.0</td>\n",
              "    </tr>\n",
              "    <tr>\n",
              "      <th>2</th>\n",
              "      <td>2014</td>\n",
              "      <td>1</td>\n",
              "      <td>1</td>\n",
              "      <td>8.0</td>\n",
              "      <td>13.0</td>\n",
              "      <td>548.0</td>\n",
              "      <td>-4.0</td>\n",
              "      <td>UA</td>\n",
              "      <td>N37422</td>\n",
              "      <td>1609</td>\n",
              "      <td>PDX</td>\n",
              "      <td>IAH</td>\n",
              "      <td>201.0</td>\n",
              "      <td>1825</td>\n",
              "      <td>0.0</td>\n",
              "      <td>8.0</td>\n",
              "    </tr>\n",
              "    <tr>\n",
              "      <th>3</th>\n",
              "      <td>2014</td>\n",
              "      <td>1</td>\n",
              "      <td>1</td>\n",
              "      <td>28.0</td>\n",
              "      <td>-2.0</td>\n",
              "      <td>800.0</td>\n",
              "      <td>-23.0</td>\n",
              "      <td>US</td>\n",
              "      <td>N547UW</td>\n",
              "      <td>466</td>\n",
              "      <td>PDX</td>\n",
              "      <td>CLT</td>\n",
              "      <td>251.0</td>\n",
              "      <td>2282</td>\n",
              "      <td>0.0</td>\n",
              "      <td>28.0</td>\n",
              "    </tr>\n",
              "    <tr>\n",
              "      <th>4</th>\n",
              "      <td>2014</td>\n",
              "      <td>1</td>\n",
              "      <td>1</td>\n",
              "      <td>34.0</td>\n",
              "      <td>44.0</td>\n",
              "      <td>325.0</td>\n",
              "      <td>43.0</td>\n",
              "      <td>AS</td>\n",
              "      <td>N762AS</td>\n",
              "      <td>121</td>\n",
              "      <td>SEA</td>\n",
              "      <td>ANC</td>\n",
              "      <td>201.0</td>\n",
              "      <td>1448</td>\n",
              "      <td>0.0</td>\n",
              "      <td>34.0</td>\n",
              "    </tr>\n",
              "  </tbody>\n",
              "</table>\n",
              "</div>"
            ],
            "text/plain": [
              "   year  month  day  dep_time  dep_delay  ...  dest  air_time distance hour  minute\n",
              "0  2014      1    1       1.0       96.0  ...   ANC     194.0     1542  0.0     1.0\n",
              "1  2014      1    1       4.0       -6.0  ...   CLT     252.0     2279  0.0     4.0\n",
              "2  2014      1    1       8.0       13.0  ...   IAH     201.0     1825  0.0     8.0\n",
              "3  2014      1    1      28.0       -2.0  ...   CLT     251.0     2282  0.0    28.0\n",
              "4  2014      1    1      34.0       44.0  ...   ANC     201.0     1448  0.0    34.0\n",
              "\n",
              "[5 rows x 16 columns]"
            ]
          },
          "metadata": {
            "tags": []
          },
          "execution_count": 7
        }
      ]
    },
    {
      "cell_type": "markdown",
      "metadata": {
        "id": "xsp27cmONm6j"
      },
      "source": [
        "## 1.4  Step 4. Transpose the frame to see all columns at once\n"
      ]
    },
    {
      "cell_type": "code",
      "metadata": {
        "id": "eeh2G7jiNcg4"
      },
      "source": [
        ""
      ],
      "execution_count": null,
      "outputs": []
    },
    {
      "cell_type": "markdown",
      "metadata": {
        "id": "3-b8Gnd5NwOK"
      },
      "source": [
        "## 1.5  Step 5. Examine data types of all features and total dataframe size in memory"
      ]
    },
    {
      "cell_type": "code",
      "metadata": {
        "id": "evVGPvnmG_TA"
      },
      "source": [
        ""
      ],
      "execution_count": null,
      "outputs": []
    },
    {
      "cell_type": "markdown",
      "metadata": {
        "id": "tqVCrXhkN3BD"
      },
      "source": [
        "## 1.6  Step 6. Get basic statistics of each column"
      ]
    },
    {
      "cell_type": "code",
      "metadata": {
        "id": "Jvl7lwTNN2Yl"
      },
      "source": [
        ""
      ],
      "execution_count": null,
      "outputs": []
    },
    {
      "cell_type": "markdown",
      "metadata": {
        "id": "h0Ht0h4PODsX"
      },
      "source": [
        "## 1.7  Step 7. Count unique Carriers and plot their relative share of flights"
      ]
    },
    {
      "cell_type": "code",
      "metadata": {
        "id": "YV-URZCPFunw"
      },
      "source": [
        ""
      ],
      "execution_count": null,
      "outputs": []
    },
    {
      "cell_type": "code",
      "metadata": {
        "id": "eaax8DXMOTyI"
      },
      "source": [
        ""
      ],
      "execution_count": null,
      "outputs": []
    },
    {
      "cell_type": "markdown",
      "metadata": {
        "id": "IlT6_KYbOsRK"
      },
      "source": [
        "## 1.8  Step 8. Find the top-5 flight codes, that have the largest total distance travelled in year 2008\n",
        "\n",
        "    Tips : use .groupby and sum. remember to sort! "
      ]
    },
    {
      "cell_type": "code",
      "metadata": {
        "id": "fGxeURXXOscM"
      },
      "source": [
        ""
      ],
      "execution_count": null,
      "outputs": []
    },
    {
      "cell_type": "markdown",
      "metadata": {
        "id": "orBXoRWtGekm"
      },
      "source": [
        "## 1.9  Step 9 Making a histogram of flight frequency by date\n",
        "\n",
        "    Tips : You have to develop a new column.... datetime! use pd.datetime function. Set the new column as index \n"
      ]
    },
    {
      "cell_type": "code",
      "metadata": {
        "id": "xehTsZknGhch"
      },
      "source": [
        ""
      ],
      "execution_count": null,
      "outputs": []
    },
    {
      "cell_type": "code",
      "metadata": {
        "id": "KD12ToQ1Zk0S"
      },
      "source": [
        ""
      ],
      "execution_count": null,
      "outputs": []
    },
    {
      "cell_type": "markdown",
      "metadata": {
        "id": "4zQOn26UPJgp"
      },
      "source": [
        "## 1.9_bis  Step 9_bis Number of flights by days of month and day of the week\n",
        "\n",
        "    Tips : use pd.crosstab\n"
      ]
    },
    {
      "cell_type": "code",
      "metadata": {
        "id": "cXEuMSADXuwL"
      },
      "source": [
        ""
      ],
      "execution_count": null,
      "outputs": []
    },
    {
      "cell_type": "code",
      "metadata": {
        "id": "9G6ggnU2Os73"
      },
      "source": [
        ""
      ],
      "execution_count": null,
      "outputs": []
    },
    {
      "cell_type": "markdown",
      "metadata": {
        "id": "_hMayINZQyVL"
      },
      "source": [
        "## 1.10  Step 10. Plot flight distance day of the week + month histogram\n",
        "\n",
        "    Question : can we extract any relevant information?\n"
      ]
    },
    {
      "cell_type": "code",
      "metadata": {
        "id": "Uf4uqV8MQyfw"
      },
      "source": [
        ""
      ],
      "execution_count": null,
      "outputs": []
    },
    {
      "cell_type": "code",
      "metadata": {
        "id": "OOfSjRzJTJg6"
      },
      "source": [
        ""
      ],
      "execution_count": null,
      "outputs": []
    },
    {
      "cell_type": "markdown",
      "metadata": {
        "id": "X-yNKUjZTQbb"
      },
      "source": [
        "## 1.14  Step 14. Which route is the most frequent, in terms of the number of flights?"
      ]
    },
    {
      "cell_type": "code",
      "metadata": {
        "id": "_aWeimoXRvrr"
      },
      "source": [
        ""
      ],
      "execution_count": null,
      "outputs": []
    },
    {
      "cell_type": "markdown",
      "metadata": {
        "id": "aHMOj-Y1V2ac"
      },
      "source": [
        "## 1.15  Step 15. Find top-5 delayed routes (count how many times they were delayed on departure) \n",
        "\n",
        "*From all flights on these 5 routes, count all flights with weather conditions *contributing to a delay."
      ]
    },
    {
      "cell_type": "code",
      "metadata": {
        "id": "VaC8nvdwRvu8"
      },
      "source": [
        ""
      ],
      "execution_count": null,
      "outputs": []
    },
    {
      "cell_type": "markdown",
      "metadata": {
        "id": "SE_DtRdfWJSh"
      },
      "source": [
        "## 1.16  Step 16 Examine the hourly distribution of departure times (use also plots if needed)\n",
        "\n",
        "*For that, create a new series from DepTime, removing missing values*\n",
        "\n",
        "    Choose all correct statements:\n",
        "\n",
        "    - Flights are normally distributed within time interval [0-23] (Search for: Normal distribution, bell curve).\n",
        "    - Flights are uniformly distributed within time interval [0-23].\n",
        "    - In the period from 0 am to 4 am there are considerably less flights than from 7 pm to 8 pm.\n",
        "\n",
        "\n",
        "    TIPS : this is a bit complex : use apply function + value_counts"
      ]
    },
    {
      "cell_type": "code",
      "metadata": {
        "id": "11CSMdfqRv4d"
      },
      "source": [
        ""
      ],
      "execution_count": null,
      "outputs": []
    },
    {
      "cell_type": "code",
      "metadata": {
        "id": "zE1XGoY_Rv2N"
      },
      "source": [
        ""
      ],
      "execution_count": null,
      "outputs": []
    },
    {
      "cell_type": "markdown",
      "metadata": {
        "id": "fsV2pjpgGZqT"
      },
      "source": [
        "## 1.17  Step 17 Examine the Nan Values x columns\n",
        "\n",
        "    TIPS : check documentation! https://pandas.pydata.org/pandas-docs/stable/user_guide/missing_data.html"
      ]
    },
    {
      "cell_type": "code",
      "metadata": {
        "id": "tCczvQ8eF-gd"
      },
      "source": [
        ""
      ],
      "execution_count": null,
      "outputs": []
    },
    {
      "cell_type": "markdown",
      "metadata": {
        "id": "l51kOhrbD2WG"
      },
      "source": [
        "# How visualize categorical variables in a proper way?\n",
        "\n",
        "That's why it's always a good idea to investigate your raw dataset thoroughly and then think about cleaning it.\n",
        "\n",
        "One of the most common ways to analyze the relationship between a categorical feature and a continuous feature is to plot a boxplot"
      ]
    },
    {
      "cell_type": "code",
      "metadata": {
        "id": "_OlGqc_UEajK",
        "outputId": "94164c0b-87c2-4d2c-d844-44ec1f1837fb",
        "colab": {
          "base_uri": "https://localhost:8080/",
          "height": 84
        }
      },
      "source": [
        "df_flights.columns"
      ],
      "execution_count": null,
      "outputs": [
        {
          "output_type": "execute_result",
          "data": {
            "text/plain": [
              "Index(['year', 'month', 'day', 'dep_time', 'dep_delay', 'arr_time',\n",
              "       'arr_delay', 'carrier', 'tailnum', 'flight', 'origin', 'dest',\n",
              "       'air_time', 'distance', 'hour', 'minute'],\n",
              "      dtype='object')"
            ]
          },
          "metadata": {
            "tags": []
          },
          "execution_count": 32
        }
      ]
    },
    {
      "cell_type": "code",
      "metadata": {
        "id": "Scq3aOf4DtAv"
      },
      "source": [
        "df_flights.boxplot('###','carrier',rot = 30,figsize=(5,6))\n",
        "plt.show()"
      ],
      "execution_count": null,
      "outputs": []
    },
    {
      "cell_type": "code",
      "metadata": {
        "id": "1OSnit3pFVct"
      },
      "source": [
        "df_flights.boxplot('###','carrier',rot = 30,figsize=(5,6))\n",
        "plt.show()"
      ],
      "execution_count": null,
      "outputs": []
    },
    {
      "cell_type": "markdown",
      "metadata": {
        "id": "SyQoZ8Is7XHb"
      },
      "source": [
        "# Encoding Categorical Data!\n",
        "\n",
        "- Replacing values\n",
        "- Label Encoding\n",
        "- One-Hot encoding\n",
        "- Binary encoding\n"
      ]
    },
    {
      "cell_type": "markdown",
      "metadata": {
        "id": "MRz88Af6ImAL"
      },
      "source": [
        "### Label Encoding for origin/departure\n",
        "\n",
        "\n",
        "Another approach is to encode categorical values with a technique called \"label encoding\", which allows you to convert each value in a column to a number. Numerical labels are always between 0 and n_categories-1."
      ]
    },
    {
      "cell_type": "code",
      "metadata": {
        "id": "rAzCYL2iHbUH"
      },
      "source": [
        "labels = df_flights['dest'].astype('category').cat.categories.tolist()\n",
        "\n",
        "replace_map_comp = {'dest' : {k: v for k,v in zip(labels,list(range(1,len(labels)+1)))}}\n",
        "df_flights.replace(replace_map_comp, inplace=True)\n",
        "\n",
        "replace_map_comp = {'origin' : {k: v for k,v in zip(labels,list(range(1,len(labels)+1)))}}\n",
        "df_flights.replace(replace_map_comp, inplace=True)\n",
        "\n",
        "# looking for easier way? --> from sklearn.preprocessing import LabelEncoder"
      ],
      "execution_count": null,
      "outputs": []
    },
    {
      "cell_type": "code",
      "metadata": {
        "id": "yHw8hOO8IRmi",
        "outputId": "ccb98410-c64d-48b5-bccc-1420b60222e8",
        "colab": {
          "base_uri": "https://localhost:8080/",
          "height": 225
        }
      },
      "source": [
        "df_flights.head()"
      ],
      "execution_count": null,
      "outputs": [
        {
          "output_type": "execute_result",
          "data": {
            "text/html": [
              "<div>\n",
              "<style scoped>\n",
              "    .dataframe tbody tr th:only-of-type {\n",
              "        vertical-align: middle;\n",
              "    }\n",
              "\n",
              "    .dataframe tbody tr th {\n",
              "        vertical-align: top;\n",
              "    }\n",
              "\n",
              "    .dataframe thead th {\n",
              "        text-align: right;\n",
              "    }\n",
              "</style>\n",
              "<table border=\"1\" class=\"dataframe\">\n",
              "  <thead>\n",
              "    <tr style=\"text-align: right;\">\n",
              "      <th></th>\n",
              "      <th>year</th>\n",
              "      <th>month</th>\n",
              "      <th>day</th>\n",
              "      <th>dep_time</th>\n",
              "      <th>dep_delay</th>\n",
              "      <th>arr_time</th>\n",
              "      <th>arr_delay</th>\n",
              "      <th>carrier</th>\n",
              "      <th>tailnum</th>\n",
              "      <th>flight</th>\n",
              "      <th>origin</th>\n",
              "      <th>dest</th>\n",
              "      <th>air_time</th>\n",
              "      <th>distance</th>\n",
              "      <th>hour</th>\n",
              "      <th>minute</th>\n",
              "    </tr>\n",
              "    <tr>\n",
              "      <th>datetime</th>\n",
              "      <th></th>\n",
              "      <th></th>\n",
              "      <th></th>\n",
              "      <th></th>\n",
              "      <th></th>\n",
              "      <th></th>\n",
              "      <th></th>\n",
              "      <th></th>\n",
              "      <th></th>\n",
              "      <th></th>\n",
              "      <th></th>\n",
              "      <th></th>\n",
              "      <th></th>\n",
              "      <th></th>\n",
              "      <th></th>\n",
              "      <th></th>\n",
              "    </tr>\n",
              "  </thead>\n",
              "  <tbody>\n",
              "    <tr>\n",
              "      <th>2014-01-01</th>\n",
              "      <td>2014</td>\n",
              "      <td>1</td>\n",
              "      <td>1</td>\n",
              "      <td>1.0</td>\n",
              "      <td>96.0</td>\n",
              "      <td>235.0</td>\n",
              "      <td>70.0</td>\n",
              "      <td>AS</td>\n",
              "      <td>N508AS</td>\n",
              "      <td>145</td>\n",
              "      <td>53</td>\n",
              "      <td>2</td>\n",
              "      <td>194.0</td>\n",
              "      <td>1542</td>\n",
              "      <td>0.0</td>\n",
              "      <td>1.0</td>\n",
              "    </tr>\n",
              "    <tr>\n",
              "      <th>2014-01-01</th>\n",
              "      <td>2014</td>\n",
              "      <td>1</td>\n",
              "      <td>1</td>\n",
              "      <td>4.0</td>\n",
              "      <td>-6.0</td>\n",
              "      <td>738.0</td>\n",
              "      <td>-23.0</td>\n",
              "      <td>US</td>\n",
              "      <td>N195UW</td>\n",
              "      <td>1830</td>\n",
              "      <td>62</td>\n",
              "      <td>13</td>\n",
              "      <td>252.0</td>\n",
              "      <td>2279</td>\n",
              "      <td>0.0</td>\n",
              "      <td>4.0</td>\n",
              "    </tr>\n",
              "    <tr>\n",
              "      <th>2014-01-01</th>\n",
              "      <td>2014</td>\n",
              "      <td>1</td>\n",
              "      <td>1</td>\n",
              "      <td>8.0</td>\n",
              "      <td>13.0</td>\n",
              "      <td>548.0</td>\n",
              "      <td>-4.0</td>\n",
              "      <td>UA</td>\n",
              "      <td>N37422</td>\n",
              "      <td>1609</td>\n",
              "      <td>53</td>\n",
              "      <td>30</td>\n",
              "      <td>201.0</td>\n",
              "      <td>1825</td>\n",
              "      <td>0.0</td>\n",
              "      <td>8.0</td>\n",
              "    </tr>\n",
              "    <tr>\n",
              "      <th>2014-01-01</th>\n",
              "      <td>2014</td>\n",
              "      <td>1</td>\n",
              "      <td>1</td>\n",
              "      <td>28.0</td>\n",
              "      <td>-2.0</td>\n",
              "      <td>800.0</td>\n",
              "      <td>-23.0</td>\n",
              "      <td>US</td>\n",
              "      <td>N547UW</td>\n",
              "      <td>466</td>\n",
              "      <td>53</td>\n",
              "      <td>13</td>\n",
              "      <td>251.0</td>\n",
              "      <td>2282</td>\n",
              "      <td>0.0</td>\n",
              "      <td>28.0</td>\n",
              "    </tr>\n",
              "    <tr>\n",
              "      <th>2014-01-01</th>\n",
              "      <td>2014</td>\n",
              "      <td>1</td>\n",
              "      <td>1</td>\n",
              "      <td>34.0</td>\n",
              "      <td>44.0</td>\n",
              "      <td>325.0</td>\n",
              "      <td>43.0</td>\n",
              "      <td>AS</td>\n",
              "      <td>N762AS</td>\n",
              "      <td>121</td>\n",
              "      <td>62</td>\n",
              "      <td>2</td>\n",
              "      <td>201.0</td>\n",
              "      <td>1448</td>\n",
              "      <td>0.0</td>\n",
              "      <td>34.0</td>\n",
              "    </tr>\n",
              "  </tbody>\n",
              "</table>\n",
              "</div>"
            ],
            "text/plain": [
              "            year  month  day  dep_time  ...  air_time  distance  hour minute\n",
              "datetime                                ...                                 \n",
              "2014-01-01  2014      1    1       1.0  ...     194.0      1542   0.0    1.0\n",
              "2014-01-01  2014      1    1       4.0  ...     252.0      2279   0.0    4.0\n",
              "2014-01-01  2014      1    1       8.0  ...     201.0      1825   0.0    8.0\n",
              "2014-01-01  2014      1    1      28.0  ...     251.0      2282   0.0   28.0\n",
              "2014-01-01  2014      1    1      34.0  ...     201.0      1448   0.0   34.0\n",
              "\n",
              "[5 rows x 16 columns]"
            ]
          },
          "metadata": {
            "tags": []
          },
          "execution_count": 41
        }
      ]
    },
    {
      "cell_type": "code",
      "metadata": {
        "id": "AkpVqNdISa_6"
      },
      "source": [
        "# You can try also with carrier, your choice\n",
        "\n",
        "labels = df_flights['carrier'].astype('category').cat.categories.tolist()\n",
        "\n",
        "replace_map_comp = {'carrier' : {k: v for k,v in zip(labels,list(range(1,len(labels)+1)))}}\n",
        "df_flights.replace(replace_map_comp, inplace=True)"
      ],
      "execution_count": null,
      "outputs": []
    },
    {
      "cell_type": "markdown",
      "metadata": {
        "id": "hzgJXQlEIu2C"
      },
      "source": [
        "### One-Hot Encoding for carrier\n",
        "\n",
        "The basic strategy is to convert each category value into a new column and assign a 1 or 0 (True/False) value to the column"
      ]
    },
    {
      "cell_type": "code",
      "metadata": {
        "id": "m8p4nGiMHLFM"
      },
      "source": [
        "df_flights = pd.get_dummies(df_flights, columns=['carrier'],\n",
        "                                       prefix = ['carrier'])\n",
        "\n",
        "df_flights.head()"
      ],
      "execution_count": null,
      "outputs": []
    },
    {
      "cell_type": "markdown",
      "metadata": {
        "id": "V1LC4jnoJ2xb"
      },
      "source": [
        "### Clean unuseful variables"
      ]
    },
    {
      "cell_type": "code",
      "metadata": {
        "id": "xc81VnIcJ1Yq",
        "outputId": "39251546-7f8d-48b0-cc05-2f2118c7d785",
        "colab": {
          "base_uri": "https://localhost:8080/",
          "height": 225
        }
      },
      "source": [
        "del df_flights['year']\n",
        "del df_flights['day']\n",
        "del df_flights['tailnum']\n",
        "del df_flights['flight']\n",
        "del df_flights['air_time']\n",
        "del df_flights['hour']\n",
        "del df_flights['minute']\n",
        "\n",
        "df_flights.head()"
      ],
      "execution_count": null,
      "outputs": [
        {
          "output_type": "execute_result",
          "data": {
            "text/html": [
              "<div>\n",
              "<style scoped>\n",
              "    .dataframe tbody tr th:only-of-type {\n",
              "        vertical-align: middle;\n",
              "    }\n",
              "\n",
              "    .dataframe tbody tr th {\n",
              "        vertical-align: top;\n",
              "    }\n",
              "\n",
              "    .dataframe thead th {\n",
              "        text-align: right;\n",
              "    }\n",
              "</style>\n",
              "<table border=\"1\" class=\"dataframe\">\n",
              "  <thead>\n",
              "    <tr style=\"text-align: right;\">\n",
              "      <th></th>\n",
              "      <th>month</th>\n",
              "      <th>dep_time</th>\n",
              "      <th>dep_delay</th>\n",
              "      <th>arr_time</th>\n",
              "      <th>arr_delay</th>\n",
              "      <th>carrier</th>\n",
              "      <th>origin</th>\n",
              "      <th>dest</th>\n",
              "      <th>distance</th>\n",
              "    </tr>\n",
              "    <tr>\n",
              "      <th>datetime</th>\n",
              "      <th></th>\n",
              "      <th></th>\n",
              "      <th></th>\n",
              "      <th></th>\n",
              "      <th></th>\n",
              "      <th></th>\n",
              "      <th></th>\n",
              "      <th></th>\n",
              "      <th></th>\n",
              "    </tr>\n",
              "  </thead>\n",
              "  <tbody>\n",
              "    <tr>\n",
              "      <th>2014-01-01</th>\n",
              "      <td>1</td>\n",
              "      <td>1.0</td>\n",
              "      <td>96.0</td>\n",
              "      <td>235.0</td>\n",
              "      <td>70.0</td>\n",
              "      <td>2</td>\n",
              "      <td>53</td>\n",
              "      <td>2</td>\n",
              "      <td>1542</td>\n",
              "    </tr>\n",
              "    <tr>\n",
              "      <th>2014-01-01</th>\n",
              "      <td>1</td>\n",
              "      <td>4.0</td>\n",
              "      <td>-6.0</td>\n",
              "      <td>738.0</td>\n",
              "      <td>-23.0</td>\n",
              "      <td>9</td>\n",
              "      <td>62</td>\n",
              "      <td>13</td>\n",
              "      <td>2279</td>\n",
              "    </tr>\n",
              "    <tr>\n",
              "      <th>2014-01-01</th>\n",
              "      <td>1</td>\n",
              "      <td>8.0</td>\n",
              "      <td>13.0</td>\n",
              "      <td>548.0</td>\n",
              "      <td>-4.0</td>\n",
              "      <td>8</td>\n",
              "      <td>53</td>\n",
              "      <td>30</td>\n",
              "      <td>1825</td>\n",
              "    </tr>\n",
              "    <tr>\n",
              "      <th>2014-01-01</th>\n",
              "      <td>1</td>\n",
              "      <td>28.0</td>\n",
              "      <td>-2.0</td>\n",
              "      <td>800.0</td>\n",
              "      <td>-23.0</td>\n",
              "      <td>9</td>\n",
              "      <td>53</td>\n",
              "      <td>13</td>\n",
              "      <td>2282</td>\n",
              "    </tr>\n",
              "    <tr>\n",
              "      <th>2014-01-01</th>\n",
              "      <td>1</td>\n",
              "      <td>34.0</td>\n",
              "      <td>44.0</td>\n",
              "      <td>325.0</td>\n",
              "      <td>43.0</td>\n",
              "      <td>2</td>\n",
              "      <td>62</td>\n",
              "      <td>2</td>\n",
              "      <td>1448</td>\n",
              "    </tr>\n",
              "  </tbody>\n",
              "</table>\n",
              "</div>"
            ],
            "text/plain": [
              "            month  dep_time  dep_delay  ...  origin  dest  distance\n",
              "datetime                                ...                        \n",
              "2014-01-01      1       1.0       96.0  ...      53     2      1542\n",
              "2014-01-01      1       4.0       -6.0  ...      62    13      2279\n",
              "2014-01-01      1       8.0       13.0  ...      53    30      1825\n",
              "2014-01-01      1      28.0       -2.0  ...      53    13      2282\n",
              "2014-01-01      1      34.0       44.0  ...      62     2      1448\n",
              "\n",
              "[5 rows x 9 columns]"
            ]
          },
          "metadata": {
            "tags": []
          },
          "execution_count": 43
        }
      ]
    },
    {
      "cell_type": "code",
      "metadata": {
        "id": "VEOi-RIcQljq",
        "outputId": "3bdc6f59-5db9-46d3-85d3-0792623b18b2",
        "colab": {
          "base_uri": "https://localhost:8080/",
          "height": 353
        }
      },
      "source": [
        "print(\"Before : {}\".format(df_flights.isnull().mean() * 100))\n",
        "\n",
        "df_flights[\"dep_delay\"].fillna(0, inplace = True) \n",
        "df_flights[\"arr_delay\"].fillna(0, inplace = True) \n",
        "\n",
        "print(\"After : {}\".format(df_flights.isnull().mean() * 100))"
      ],
      "execution_count": null,
      "outputs": [
        {
          "output_type": "stream",
          "text": [
            "Before : month        0.000000\n",
            "dep_time     0.528852\n",
            "dep_delay    0.528852\n",
            "arr_time     0.609692\n",
            "arr_delay    0.802844\n",
            "carrier      0.000000\n",
            "origin       0.000000\n",
            "dest         0.000000\n",
            "distance     0.000000\n",
            "dtype: float64\n",
            "After : month        0.000000\n",
            "dep_time     0.528852\n",
            "dep_delay    0.000000\n",
            "arr_time     0.609692\n",
            "arr_delay    0.000000\n",
            "carrier      0.000000\n",
            "origin       0.000000\n",
            "dest         0.000000\n",
            "distance     0.000000\n",
            "dtype: float64\n"
          ],
          "name": "stdout"
        }
      ]
    },
    {
      "cell_type": "code",
      "metadata": {
        "id": "yvZ5S5yTSwt7",
        "outputId": "bb9df758-7515-4e7e-fa54-609c783c3f17",
        "colab": {
          "base_uri": "https://localhost:8080/",
          "height": 202
        }
      },
      "source": [
        "df_flights.dropna(inplace=True)\n",
        "print(\"After : {}\".format(df_flights.isnull().mean() * 100))\n",
        "print(df_flights.shape)"
      ],
      "execution_count": null,
      "outputs": [
        {
          "output_type": "stream",
          "text": [
            "After : month        0.0\n",
            "dep_time     0.0\n",
            "dep_delay    0.0\n",
            "arr_time     0.0\n",
            "arr_delay    0.0\n",
            "carrier      0.0\n",
            "origin       0.0\n",
            "dest         0.0\n",
            "distance     0.0\n",
            "dtype: float64\n",
            "(161061, 9)\n"
          ],
          "name": "stdout"
        }
      ]
    },
    {
      "cell_type": "markdown",
      "metadata": {
        "id": "veBbPcgJKrqI"
      },
      "source": [
        "## Data Splitting"
      ]
    },
    {
      "cell_type": "code",
      "metadata": {
        "id": "ceXBlu0YKt8R",
        "outputId": "109ece0f-11bc-4693-976f-fb1a85a73f3e",
        "colab": {
          "base_uri": "https://localhost:8080/",
          "height": 34
        }
      },
      "source": [
        "X=df_flights.drop(columns='arr_delay')\n",
        "Y=df_flights['arr_delay']\n",
        "\n",
        "X_train,X_test,Y_train,Y_test=model_selection.train_test_split(X,Y,test_size=0.30, shuffle=True)\n",
        "print(X_train.shape, X_test.shape, Y_train.shape, Y_test.shape)"
      ],
      "execution_count": null,
      "outputs": [
        {
          "output_type": "stream",
          "text": [
            "(112742, 8) (48319, 8) (112742,) (48319,)\n"
          ],
          "name": "stdout"
        }
      ]
    },
    {
      "cell_type": "markdown",
      "metadata": {
        "id": "5QBvRUwNL0sD"
      },
      "source": [
        "### Scaler"
      ]
    },
    {
      "cell_type": "code",
      "metadata": {
        "id": "PMD0d0hSL1X4"
      },
      "source": [
        "scalar=StandardScaler()\n",
        "X_train=scalar.fit_transform(X_train)\n",
        "X_test=scalar.fit_transform(X_test)"
      ],
      "execution_count": null,
      "outputs": []
    },
    {
      "cell_type": "markdown",
      "metadata": {
        "id": "NE5WVmnrMQcX"
      },
      "source": [
        "### Linear Model"
      ]
    },
    {
      "cell_type": "code",
      "metadata": {
        "id": "DKqliIUfMYwi",
        "outputId": "aed69d1b-2b11-4a03-dde7-7c3a92e5b70d",
        "colab": {
          "base_uri": "https://localhost:8080/",
          "height": 34
        }
      },
      "source": [
        "from sklearn.linear_model import LinearRegression\n",
        "\n",
        "# Fitting the model\n",
        "flight_model = LinearRegression()\n",
        "flight_model.fit(X_train, Y_train)"
      ],
      "execution_count": null,
      "outputs": [
        {
          "output_type": "execute_result",
          "data": {
            "text/plain": [
              "LinearRegression(copy_X=True, fit_intercept=True, n_jobs=None, normalize=False)"
            ]
          },
          "metadata": {
            "tags": []
          },
          "execution_count": 50
        }
      ]
    },
    {
      "cell_type": "markdown",
      "metadata": {
        "id": "exGFLxL8VE5R"
      },
      "source": [
        "## Evaluate"
      ]
    },
    {
      "cell_type": "code",
      "metadata": {
        "id": "KTCeE8MAVFtL",
        "outputId": "37d1295f-b4ec-431f-df3a-15b28298d6b5",
        "colab": {
          "base_uri": "https://localhost:8080/",
          "height": 34
        }
      },
      "source": [
        "flight_r2 = flight_model.score(X_test, Y_test)\n",
        "print('R^2: {0}'.format(flight_r2))\n",
        "\n",
        "## EVALUATE ALSO OTHER METRICS!!! PLS"
      ],
      "execution_count": null,
      "outputs": [
        {
          "output_type": "stream",
          "text": [
            "R^2: 0.8450047783048725\n"
          ],
          "name": "stdout"
        }
      ]
    },
    {
      "cell_type": "code",
      "metadata": {
        "id": "vdFW3qzFU9vz",
        "outputId": "5e30d76f-4870-4776-8911-b99ac9ea843e",
        "colab": {
          "base_uri": "https://localhost:8080/",
          "height": 685
        }
      },
      "source": [
        "importance = flight_model.coef_\n",
        "# summarize feature importance\n",
        "for i,v in enumerate(importance):\n",
        "\tprint('Feature: %0d, Score: %.5f' % (i,v))\n",
        "# plot feature importance\n",
        "plt.bar([x for x in range(len(importance))], importance)\n",
        "plt.show()\n",
        "\n",
        "print(X.columns)"
      ],
      "execution_count": null,
      "outputs": [
        {
          "output_type": "stream",
          "text": [
            "Feature: 0, Score: 0.12565\n",
            "Feature: 1, Score: -0.00140\n",
            "Feature: 2, Score: 0.99463\n",
            "Feature: 3, Score: 0.00143\n",
            "Feature: 4, Score: -0.37855\n",
            "Feature: 5, Score: 0.02750\n",
            "Feature: 6, Score: 0.01615\n",
            "Feature: 7, Score: -0.00275\n"
          ],
          "name": "stdout"
        },
        {
          "output_type": "display_data",
          "data": {
            "image/png": "[encoded data removed]",
            "text/plain": [
              "<Figure size 842.4x595.44 with 1 Axes>"
            ]
          },
          "metadata": {
            "tags": []
          }
        },
        {
          "output_type": "stream",
          "text": [
            "Index(['month', 'dep_time', 'dep_delay', 'arr_time', 'carrier', 'origin',\n",
            "       'dest', 'distance'],\n",
            "      dtype='object')\n"
          ],
          "name": "stdout"
        }
      ]
    },
    {
      "cell_type": "markdown",
      "metadata": {
        "id": "8p3aAu2lPOtl"
      },
      "source": [
        "## Do you want a smarter way? Pipelining!\n",
        "\n"
      ]
    },
    {
      "cell_type": "code",
      "metadata": {
        "id": "mwpyKgCFPW0b"
      },
      "source": [
        "from sklearn.pipeline import Pipeline\n",
        "from sklearn.preprocessing import OneHotEncoder\n",
        "\n",
        "EXAMPLE = X.select_dtypes('category').dtypes.index.values.tolist()\n",
        "\n",
        "pipeline = ([\n",
        "  ('one_hot', OneHotEncoder(drop='first'), EXAMPLE),\n",
        "  ('lin_reg', LinearRegession())\n",
        "])\n",
        "\n",
        "pipeline.fit_predict(X, y)"
      ],
      "execution_count": null,
      "outputs": []
    }
  ]
}