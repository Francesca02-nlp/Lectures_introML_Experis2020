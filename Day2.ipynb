{
  "nbformat": 4,
  "nbformat_minor": 0,
  "metadata": {
    "colab": {
      "name": "Day2.ipynb",
      "provenance": [],
      "include_colab_link": true
    },
    "kernelspec": {
      "display_name": "Python 3",
      "language": "python",
      "name": "python3"
    },
    "language_info": {
      "codemirror_mode": {
        "name": "ipython",
        "version": 2
      },
      "file_extension": ".py",
      "mimetype": "text/x-python",
      "name": "python",
      "nbconvert_exporter": "python",
      "pygments_lexer": "ipython2",
      "version": "2.7.17"
    },
    "toc": {
      "base_numbering": 1,
      "nav_menu": {},
      "number_sections": true,
      "sideBar": true,
      "skip_h1_title": false,
      "title_cell": "Table of Contents",
      "title_sidebar": "Contents",
      "toc_cell": false,
      "toc_position": {},
      "toc_section_display": true,
      "toc_window_display": false
    },
    "varInspector": {
      "cols": {
        "lenName": 16,
        "lenType": 16,
        "lenVar": 40
      },
      "kernels_config": {
        "python": {
          "delete_cmd_postfix": "",
          "delete_cmd_prefix": "del ",
          "library": "var_list.py",
          "varRefreshCmd": "print(var_dic_list())"
        },
        "r": {
          "delete_cmd_postfix": ") ",
          "delete_cmd_prefix": "rm(",
          "library": "var_list.r",
          "varRefreshCmd": "cat(var_dic_list()) "
        }
      },
      "types_to_exclude": [
        "module",
        "function",
        "builtin_function_or_method",
        "instance",
        "_Feature"
      ],
      "window_display": true
    }
  },
  "cells": [
    {
      "cell_type": "markdown",
      "metadata": {
        "id": "view-in-github",
        "colab_type": "text"
      },
      "source": [
        "<a href=\"https://colab.research.google.com/github/matteoalberti/Lectures_introML_Experis2020/blob/master/Day2.ipynb\" target=\"_parent\"><img src=\"https://colab.research.google.com/assets/colab-badge.svg\" alt=\"Open In Colab\"/></a>"
      ]
    },
    {
      "cell_type": "markdown",
      "metadata": {
        "id": "NEnwnRhNRRyx"
      },
      "source": [
        "# **Welcome Again!**\n",
        "\n",
        "## Introduction to Machine Learning Pt.2\n",
        "\n",
        "\n",
        "\n",
        "## **Lecturer :** Matteo Alberti\n",
        "\n",
        "![](data:image/jpeg;base64,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)\n",
        "\n",
        "*Contacts :* https://www.linkedin.com/in/matteo-alberti-170493/\n"
      ]
    },
    {
      "cell_type": "markdown",
      "metadata": {
        "id": "sibE43BKRVLV"
      },
      "source": [
        "## Introduction to Supervised and Unsupervised Machine Learning\n",
        "\n",
        "![](https://www.diegocalvo.es/wp-content/uploads/2018/09/machine-learning-classification.png)\n",
        "\n",
        "\n"
      ]
    },
    {
      "cell_type": "markdown",
      "metadata": {
        "id": "VraWNaq_RdBU"
      },
      "source": [
        "## What if ..\n",
        "\n",
        "$y=f(x)$\n",
        "\n",
        "### y is not a quantitative variable?\n",
        "\n",
        "![](https://whataftercollege.com/wp-content/uploads/2020/05/Classification-of-Machine-Learning.jpg)"
      ]
    },
    {
      "cell_type": "markdown",
      "metadata": {
        "id": "6HVXpqQxRs9D"
      },
      "source": [
        "# Logistic Regression\n",
        "\n",
        "A solution for classification is logistic regression. Instead of fitting a straight line or hyperplane, the logistic regression model uses the logistic function to squeeze the output of a linear equation between 0 and 1. The logistic function is defined as:\n",
        "\n",
        "$$logistic(η) = \\frac{1}{1+ exp(-η)}$$"
      ]
    },
    {
      "cell_type": "markdown",
      "metadata": {
        "id": "UIt0TRdHnjCz"
      },
      "source": [
        "![](https://www.graphpad.com/guides/prism/8/curve-fitting/images/hmfile_hash_38a8acae.png)"
      ]
    },
    {
      "cell_type": "markdown",
      "metadata": {
        "id": "sa9iLkBSnp7h"
      },
      "source": [
        " In the linear regression model, we have modelled the relationship between outcome and features with a linear equation:\n",
        "\n",
        " $yhat = alfa + beta_1 * x_1 + beta_2 * x_2 + … + beta_p * x_p + error$\n",
        "\n",
        "\n",
        " For classification, we prefer probabilities between 0 and 1\n",
        "\n",
        " $$logistic(η) = \\frac{1}{1+ exp(-(alfa + beta_1 * x_1 + beta_2 * x_2 + … + beta_p * x_p + error) )}$$\n",
        "\n"
      ]
    },
    {
      "cell_type": "markdown",
      "metadata": {
        "id": "lOSCehzwoqUp"
      },
      "source": [
        "# Metrics for binary classification"
      ]
    },
    {
      "cell_type": "markdown",
      "metadata": {
        "id": "Zya01K73p5ho"
      },
      "source": [
        "## Confusion Matrix\n",
        "\n",
        "Confusion Matrix is a tool to determine the performance of classifier. It contains information about actual and predicted classifications. The below table shows confusion matrix of two-class, spam and non-spam classifier.\n",
        "\n",
        "![](https://glassboxmedicine.files.wordpress.com/2019/02/confusion-matrix.png?w=816)"
      ]
    },
    {
      "cell_type": "markdown",
      "metadata": {
        "id": "elyC9h5aqs__"
      },
      "source": [
        "### We can develop several metrics based on CM\n",
        "\n",
        "**Sensitivity** is also referred as True Positive Rate or Recall. It is measure of positive examples labeled as positive by classifier. It should be higher. For instance, proportion of emails which are spam among all spam emails.  \n",
        "\n",
        "$$TP/(TP+FP)$$\n",
        "\n",
        "*Example* : SPAM detection, Breast Cancer detection, ect ect\n"
      ]
    },
    {
      "cell_type": "markdown",
      "metadata": {
        "id": "yaXm-5GvrglB"
      },
      "source": [
        "**Specificity** is also know as True Negative Rate. It is measure of negative examples labeled as negative by classifier. \n",
        "\n",
        "$$TN/(TN+FN)$$"
      ]
    },
    {
      "cell_type": "markdown",
      "metadata": {
        "id": "1ref1_hgr4Jw"
      },
      "source": [
        "**Precision** is ratio of total number of correctly classified positive examples and the total number of predicted positive examples\n",
        "\n",
        "\n",
        "$$TP/(TP+FN)$$\n"
      ]
    },
    {
      "cell_type": "markdown",
      "metadata": {
        "id": "OH5Qc322sJOW"
      },
      "source": [
        "**Accuracy** \n",
        "\n",
        "$$\\frac{(TP+TN)}{(ALL)}$$\n",
        "\n",
        "0 : $\\frac{(0)}{(ALL)}$\n",
        "\n",
        "1 : $\\frac{(ALL)}{(ALL)}$"
      ]
    },
    {
      "cell_type": "markdown",
      "metadata": {
        "id": "6qJxjaH7qVWq"
      },
      "source": [
        "## Summary \n",
        "\n",
        "![](https://2.bp.blogspot.com/-EvSXDotTOwc/XMfeOGZ-CVI/AAAAAAAAEiE/oePFfvhfOQM11dgRn9FkPxlegCXbgOF4QCLcBGAs/s1600/confusionMatrxiUpdated.jpg)"
      ]
    },
    {
      "cell_type": "markdown",
      "metadata": {
        "id": "hermyPaJscB6"
      },
      "source": [
        "**F1 score** : weighted average of the recall (sensitivity) and precision.\n",
        "\n",
        "$$F1_{score} = 2* \\frac{Precision * Recall}{Precision + Recall}$$"
      ]
    },
    {
      "cell_type": "markdown",
      "metadata": {
        "id": "EfLY36nRtANp"
      },
      "source": [
        "## ROC Curve"
      ]
    },
    {
      "cell_type": "markdown",
      "metadata": {
        "id": "KtHMvCH9tDfT"
      },
      "source": [
        "**An ROC curve (or receiver operating characteristic curve) is a plot that summarizes the performance of a binary classification model on the positive class.**\n",
        "\n",
        "*AUC - ROC curve is a performance measurement for classification problem at various thresholds settings. ROC is a probability curve and AUC represents degree or measure of separability. It tells how much model is capable of distinguishing between classes.*\n",
        "\n",
        "The x-axis : **FPr** \n",
        "\n",
        "The y-axis : **TPr**\n",
        "\n",
        "ROC Curve: Plot of False Positive Rate (x) vs. True Positive Rate (y).\n",
        "\n",
        "The **true positive rate** is a fraction calculated as the total number of true positive predictions divided by the sum of the true positives and the false negatives (e.g. all examples in the positive class). The true positive rate is referred to as the **sensitivity** or the **recall**.\n",
        "\n",
        "**TruePositiveRate = TruePositives / (TruePositives + False Negatives)**\n",
        "\n",
        "The **false positive** rate is calculated as the total number of false positive predictions divided by the sum of the false positives and true negatives (e.g. all examples in the negative class).\n",
        "\n",
        "**FalsePositiveRate = FalsePositives / (FalsePositives + TrueNegatives)**\n",
        "\n",
        "We can think of the plot as the fraction of correct predictions for the positive class (y-axis) versus the fraction of errors for the negative class (x-axis).\n",
        "\n",
        "![](https://els-jbs-prod-cdn.jbs.elsevierhealth.com/cms/attachment/36cdb4ec-0c7d-48cb-9a4d-7cb463f8b7c3/gr1.jpg)"
      ]
    },
    {
      "cell_type": "markdown",
      "metadata": {
        "id": "AKCba-QNorT-"
      },
      "source": [
        "# Imbalanced Classification\n",
        "\n",
        "![](https://arc-anglerfish-washpost-prod-washpost.s3.amazonaws.com/public/QFE3K6B2QE4I5FJDTVOVGC7M5M.png)\n",
        "\n",
        "\n",
        "\n",
        "For imbalanced classification problems, the majority class is typically referred to as the negative outcome (e.g. such as “no change” or “negative test result“), and the minority class is typically referred to as the positive outcome (e.g. “change” or “positive test result“)."
      ]
    },
    {
      "cell_type": "markdown",
      "metadata": {
        "id": "EVnsMzkooVSv"
      },
      "source": [
        "# Multi Class Classification\n",
        "\n",
        " A classification task with more than two classes\n",
        "\n",
        " We have to adapt our *Logistic Function* to a new tasks . . . multi-class classification\n",
        "\n",
        " **Multinomial Logistic Regression** \n",
        "\n",
        "It uses **softmax function** instead of the sigmoid function the cross entropy loss function. **Softmax is a generalization of the sigmoid function.**\n",
        "\n",
        "![](https://wikimedia.org/api/rest_v1/media/math/render/svg/bdc1f8eaa8064d15893f1ba6426f20ff8e7149c5)\n",
        "\n",
        "\n",
        "*Steps :*\n",
        "\n",
        "- Raise e (the mathematical constant) to the power of each of those numbers.\n",
        "- Sum up all the exponentials (powers of ee). This result is the denominator.\n",
        "- Use each number’s exponential as its numerator.\n",
        "- $Probability=\\frac{Numerator}{Denominator}$\n",
        "\n",
        "\n",
        "The softmax function squashes all values to the range [0,1] and the sum of the elements is 1.\n",
        "\n",
        "\n",
        "*Example* : \n",
        "\n",
        "Given : -1, 0, 3, 5\n",
        "\n",
        "*We calculate Denominator :* $e^{-1}+e^{0} + e^{3} + e^{5}$ = 169.87\n",
        "\n",
        "*We calculate each Numerator $e^{x}$: * $e^{-1}=0.368, e^{}=1 . . . $\n",
        "\n",
        "*We calculate single probabilities :* $ P( \\frac{e^{x}}{{Denominator}})$ : 0.368/169.87 = 0.002, 1/169.87= 0.006 . . \n",
        "\n",
        "**Bigger x : bigger Probability**\n",
        "\n",
        "*Try to calculate all values probabilities and sum each other, what is the final number?*\n",
        "\n"
      ]
    },
    {
      "cell_type": "markdown",
      "metadata": {
        "id": "CqGS96r1B2Kf"
      },
      "source": [
        ""
      ]
    },
    {
      "cell_type": "code",
      "metadata": {
        "id": "GlN5gTcleqjW",
        "outputId": "ff5ac3e4-acf3-493c-8d96-a41129ccd1ce",
        "colab": {
          "base_uri": "https://localhost:8080/"
        }
      },
      "source": [
        "# Fuck paper and pen, use numpy!\n",
        "\n",
        "import numpy as np\n",
        "\n",
        "def softmax(xs):\n",
        "    return np.exp(xs) / sum(np.exp(xs))\n",
        "\n",
        "xs = np.array([-1,0,3,5])\n",
        "print(softmax(xs))"
      ],
      "execution_count": 1,
      "outputs": [
        {
          "output_type": "stream",
          "text": [
            "[0.0021657  0.00588697 0.11824302 0.87370431]\n"
          ],
          "name": "stdout"
        }
      ]
    },
    {
      "cell_type": "markdown",
      "metadata": {
        "id": "lB5Cg1KjquAT"
      },
      "source": [
        "## Confusion Matrix for multi-class classification\n",
        "\n",
        "\n",
        "![](https://miro.medium.com/max/2228/1*yH2SM0DIUQlEiveK42NnBg.png)\n",
        "\n",
        "\n",
        "\n",
        "### Any problem with that? discuss together!\n",
        "\n"
      ]
    },
    {
      "cell_type": "markdown",
      "metadata": {
        "id": "Me1ZIJjLh0Qe"
      },
      "source": [
        "- TP = 7\n",
        "- TN = (2+3+2+1) = 8\n",
        "- FP = (8+9) = 17\n",
        "- FN = (1+3) = 4\n",
        "\n",
        "\n",
        "*per la classe Apple*"
      ]
    },
    {
      "cell_type": "markdown",
      "metadata": {
        "id": "W6zzeRGOwl_w"
      },
      "source": [
        "# Load Packages"
      ]
    },
    {
      "cell_type": "code",
      "metadata": {
        "id": "LZ-sP6xvwmJ5"
      },
      "source": [
        "import time\n",
        "import pandas as pd\n",
        "import matplotlib.pyplot as plt\n",
        "import seaborn as sns\n",
        "import numpy as np\n",
        "\n",
        "from sklearn.preprocessing import StandardScaler\n",
        "from sklearn.preprocessing import LabelEncoder\n",
        "from sklearn.linear_model import LogisticRegression\n",
        "from sklearn.model_selection import train_test_split\n",
        "from sklearn.compose import ColumnTransformer\n",
        "from sklearn.metrics import classification_report\n",
        "from sklearn.metrics import roc_auc_score\n",
        "\n",
        "from sklearn.pipeline import Pipeline\n",
        "\n",
        "%matplotlib inline"
      ],
      "execution_count": 2,
      "outputs": []
    },
    {
      "cell_type": "markdown",
      "metadata": {
        "id": "L3tWxJL9weeb"
      },
      "source": [
        "### Wine quality Dataset\n",
        "\n",
        "- Fixed acidity\n",
        " -Volatile acidity\n",
        "- Citric acid\n",
        "- Residual sugar\n",
        "- Chlorides\n",
        "- Free sulfur dioxide\n",
        "- Total sulfur dioxide\n",
        "- Density\n",
        "- pH\n",
        "- Sulfates\n",
        "- Alcohol"
      ]
    },
    {
      "cell_type": "code",
      "metadata": {
        "id": "SGsrtJlmet-k"
      },
      "source": [
        "df_wine = pd.read_csv('http://archive.ics.uci.edu/ml/machine-learning-databases/wine-quality/winequality-white.csv', delimiter=\";\")"
      ],
      "execution_count": 45,
      "outputs": []
    },
    {
      "cell_type": "code",
      "metadata": {
        "id": "tkJodmqzLVvg",
        "outputId": "6c7211d4-3e57-4881-e229-4dffa8cfe083",
        "colab": {
          "base_uri": "https://localhost:8080/",
          "height": 348
        }
      },
      "source": [
        "# show dataset first 10 rows\n",
        "\n",
        "df_wine.head(10)"
      ],
      "execution_count": 8,
      "outputs": [
        {
          "output_type": "execute_result",
          "data": {
            "text/html": [
              "<div>\n",
              "<style scoped>\n",
              "    .dataframe tbody tr th:only-of-type {\n",
              "        vertical-align: middle;\n",
              "    }\n",
              "\n",
              "    .dataframe tbody tr th {\n",
              "        vertical-align: top;\n",
              "    }\n",
              "\n",
              "    .dataframe thead th {\n",
              "        text-align: right;\n",
              "    }\n",
              "</style>\n",
              "<table border=\"1\" class=\"dataframe\">\n",
              "  <thead>\n",
              "    <tr style=\"text-align: right;\">\n",
              "      <th></th>\n",
              "      <th>fixed acidity</th>\n",
              "      <th>volatile acidity</th>\n",
              "      <th>citric acid</th>\n",
              "      <th>residual sugar</th>\n",
              "      <th>chlorides</th>\n",
              "      <th>free sulfur dioxide</th>\n",
              "      <th>total sulfur dioxide</th>\n",
              "      <th>density</th>\n",
              "      <th>pH</th>\n",
              "      <th>sulphates</th>\n",
              "      <th>alcohol</th>\n",
              "      <th>quality</th>\n",
              "    </tr>\n",
              "  </thead>\n",
              "  <tbody>\n",
              "    <tr>\n",
              "      <th>0</th>\n",
              "      <td>7.0</td>\n",
              "      <td>0.27</td>\n",
              "      <td>0.36</td>\n",
              "      <td>20.7</td>\n",
              "      <td>0.045</td>\n",
              "      <td>45.0</td>\n",
              "      <td>170.0</td>\n",
              "      <td>1.0010</td>\n",
              "      <td>3.00</td>\n",
              "      <td>0.45</td>\n",
              "      <td>8.8</td>\n",
              "      <td>6</td>\n",
              "    </tr>\n",
              "    <tr>\n",
              "      <th>1</th>\n",
              "      <td>6.3</td>\n",
              "      <td>0.30</td>\n",
              "      <td>0.34</td>\n",
              "      <td>1.6</td>\n",
              "      <td>0.049</td>\n",
              "      <td>14.0</td>\n",
              "      <td>132.0</td>\n",
              "      <td>0.9940</td>\n",
              "      <td>3.30</td>\n",
              "      <td>0.49</td>\n",
              "      <td>9.5</td>\n",
              "      <td>6</td>\n",
              "    </tr>\n",
              "    <tr>\n",
              "      <th>2</th>\n",
              "      <td>8.1</td>\n",
              "      <td>0.28</td>\n",
              "      <td>0.40</td>\n",
              "      <td>6.9</td>\n",
              "      <td>0.050</td>\n",
              "      <td>30.0</td>\n",
              "      <td>97.0</td>\n",
              "      <td>0.9951</td>\n",
              "      <td>3.26</td>\n",
              "      <td>0.44</td>\n",
              "      <td>10.1</td>\n",
              "      <td>6</td>\n",
              "    </tr>\n",
              "    <tr>\n",
              "      <th>3</th>\n",
              "      <td>7.2</td>\n",
              "      <td>0.23</td>\n",
              "      <td>0.32</td>\n",
              "      <td>8.5</td>\n",
              "      <td>0.058</td>\n",
              "      <td>47.0</td>\n",
              "      <td>186.0</td>\n",
              "      <td>0.9956</td>\n",
              "      <td>3.19</td>\n",
              "      <td>0.40</td>\n",
              "      <td>9.9</td>\n",
              "      <td>6</td>\n",
              "    </tr>\n",
              "    <tr>\n",
              "      <th>4</th>\n",
              "      <td>7.2</td>\n",
              "      <td>0.23</td>\n",
              "      <td>0.32</td>\n",
              "      <td>8.5</td>\n",
              "      <td>0.058</td>\n",
              "      <td>47.0</td>\n",
              "      <td>186.0</td>\n",
              "      <td>0.9956</td>\n",
              "      <td>3.19</td>\n",
              "      <td>0.40</td>\n",
              "      <td>9.9</td>\n",
              "      <td>6</td>\n",
              "    </tr>\n",
              "    <tr>\n",
              "      <th>5</th>\n",
              "      <td>8.1</td>\n",
              "      <td>0.28</td>\n",
              "      <td>0.40</td>\n",
              "      <td>6.9</td>\n",
              "      <td>0.050</td>\n",
              "      <td>30.0</td>\n",
              "      <td>97.0</td>\n",
              "      <td>0.9951</td>\n",
              "      <td>3.26</td>\n",
              "      <td>0.44</td>\n",
              "      <td>10.1</td>\n",
              "      <td>6</td>\n",
              "    </tr>\n",
              "    <tr>\n",
              "      <th>6</th>\n",
              "      <td>6.2</td>\n",
              "      <td>0.32</td>\n",
              "      <td>0.16</td>\n",
              "      <td>7.0</td>\n",
              "      <td>0.045</td>\n",
              "      <td>30.0</td>\n",
              "      <td>136.0</td>\n",
              "      <td>0.9949</td>\n",
              "      <td>3.18</td>\n",
              "      <td>0.47</td>\n",
              "      <td>9.6</td>\n",
              "      <td>6</td>\n",
              "    </tr>\n",
              "    <tr>\n",
              "      <th>7</th>\n",
              "      <td>7.0</td>\n",
              "      <td>0.27</td>\n",
              "      <td>0.36</td>\n",
              "      <td>20.7</td>\n",
              "      <td>0.045</td>\n",
              "      <td>45.0</td>\n",
              "      <td>170.0</td>\n",
              "      <td>1.0010</td>\n",
              "      <td>3.00</td>\n",
              "      <td>0.45</td>\n",
              "      <td>8.8</td>\n",
              "      <td>6</td>\n",
              "    </tr>\n",
              "    <tr>\n",
              "      <th>8</th>\n",
              "      <td>6.3</td>\n",
              "      <td>0.30</td>\n",
              "      <td>0.34</td>\n",
              "      <td>1.6</td>\n",
              "      <td>0.049</td>\n",
              "      <td>14.0</td>\n",
              "      <td>132.0</td>\n",
              "      <td>0.9940</td>\n",
              "      <td>3.30</td>\n",
              "      <td>0.49</td>\n",
              "      <td>9.5</td>\n",
              "      <td>6</td>\n",
              "    </tr>\n",
              "    <tr>\n",
              "      <th>9</th>\n",
              "      <td>8.1</td>\n",
              "      <td>0.22</td>\n",
              "      <td>0.43</td>\n",
              "      <td>1.5</td>\n",
              "      <td>0.044</td>\n",
              "      <td>28.0</td>\n",
              "      <td>129.0</td>\n",
              "      <td>0.9938</td>\n",
              "      <td>3.22</td>\n",
              "      <td>0.45</td>\n",
              "      <td>11.0</td>\n",
              "      <td>6</td>\n",
              "    </tr>\n",
              "  </tbody>\n",
              "</table>\n",
              "</div>"
            ],
            "text/plain": [
              "   fixed acidity  volatile acidity  citric acid  ...  sulphates  alcohol  quality\n",
              "0            7.0              0.27         0.36  ...       0.45      8.8        6\n",
              "1            6.3              0.30         0.34  ...       0.49      9.5        6\n",
              "2            8.1              0.28         0.40  ...       0.44     10.1        6\n",
              "3            7.2              0.23         0.32  ...       0.40      9.9        6\n",
              "4            7.2              0.23         0.32  ...       0.40      9.9        6\n",
              "5            8.1              0.28         0.40  ...       0.44     10.1        6\n",
              "6            6.2              0.32         0.16  ...       0.47      9.6        6\n",
              "7            7.0              0.27         0.36  ...       0.45      8.8        6\n",
              "8            6.3              0.30         0.34  ...       0.49      9.5        6\n",
              "9            8.1              0.22         0.43  ...       0.45     11.0        6\n",
              "\n",
              "[10 rows x 12 columns]"
            ]
          },
          "metadata": {
            "tags": []
          },
          "execution_count": 8
        }
      ]
    },
    {
      "cell_type": "code",
      "metadata": {
        "id": "ZTx4QDuXGJqm",
        "outputId": "82f65c81-f6e4-4d88-d555-b31222e0c1f1",
        "colab": {
          "base_uri": "https://localhost:8080/",
          "height": 348
        }
      },
      "source": [
        "# show dataset last 10 rows\n",
        "\n",
        "df_wine.tail(10)"
      ],
      "execution_count": 9,
      "outputs": [
        {
          "output_type": "execute_result",
          "data": {
            "text/html": [
              "<div>\n",
              "<style scoped>\n",
              "    .dataframe tbody tr th:only-of-type {\n",
              "        vertical-align: middle;\n",
              "    }\n",
              "\n",
              "    .dataframe tbody tr th {\n",
              "        vertical-align: top;\n",
              "    }\n",
              "\n",
              "    .dataframe thead th {\n",
              "        text-align: right;\n",
              "    }\n",
              "</style>\n",
              "<table border=\"1\" class=\"dataframe\">\n",
              "  <thead>\n",
              "    <tr style=\"text-align: right;\">\n",
              "      <th></th>\n",
              "      <th>fixed acidity</th>\n",
              "      <th>volatile acidity</th>\n",
              "      <th>citric acid</th>\n",
              "      <th>residual sugar</th>\n",
              "      <th>chlorides</th>\n",
              "      <th>free sulfur dioxide</th>\n",
              "      <th>total sulfur dioxide</th>\n",
              "      <th>density</th>\n",
              "      <th>pH</th>\n",
              "      <th>sulphates</th>\n",
              "      <th>alcohol</th>\n",
              "      <th>quality</th>\n",
              "    </tr>\n",
              "  </thead>\n",
              "  <tbody>\n",
              "    <tr>\n",
              "      <th>4888</th>\n",
              "      <td>6.8</td>\n",
              "      <td>0.220</td>\n",
              "      <td>0.36</td>\n",
              "      <td>1.20</td>\n",
              "      <td>0.052</td>\n",
              "      <td>38.0</td>\n",
              "      <td>127.0</td>\n",
              "      <td>0.99330</td>\n",
              "      <td>3.04</td>\n",
              "      <td>0.54</td>\n",
              "      <td>9.2</td>\n",
              "      <td>5</td>\n",
              "    </tr>\n",
              "    <tr>\n",
              "      <th>4889</th>\n",
              "      <td>4.9</td>\n",
              "      <td>0.235</td>\n",
              "      <td>0.27</td>\n",
              "      <td>11.75</td>\n",
              "      <td>0.030</td>\n",
              "      <td>34.0</td>\n",
              "      <td>118.0</td>\n",
              "      <td>0.99540</td>\n",
              "      <td>3.07</td>\n",
              "      <td>0.50</td>\n",
              "      <td>9.4</td>\n",
              "      <td>6</td>\n",
              "    </tr>\n",
              "    <tr>\n",
              "      <th>4890</th>\n",
              "      <td>6.1</td>\n",
              "      <td>0.340</td>\n",
              "      <td>0.29</td>\n",
              "      <td>2.20</td>\n",
              "      <td>0.036</td>\n",
              "      <td>25.0</td>\n",
              "      <td>100.0</td>\n",
              "      <td>0.98938</td>\n",
              "      <td>3.06</td>\n",
              "      <td>0.44</td>\n",
              "      <td>11.8</td>\n",
              "      <td>6</td>\n",
              "    </tr>\n",
              "    <tr>\n",
              "      <th>4891</th>\n",
              "      <td>5.7</td>\n",
              "      <td>0.210</td>\n",
              "      <td>0.32</td>\n",
              "      <td>0.90</td>\n",
              "      <td>0.038</td>\n",
              "      <td>38.0</td>\n",
              "      <td>121.0</td>\n",
              "      <td>0.99074</td>\n",
              "      <td>3.24</td>\n",
              "      <td>0.46</td>\n",
              "      <td>10.6</td>\n",
              "      <td>6</td>\n",
              "    </tr>\n",
              "    <tr>\n",
              "      <th>4892</th>\n",
              "      <td>6.5</td>\n",
              "      <td>0.230</td>\n",
              "      <td>0.38</td>\n",
              "      <td>1.30</td>\n",
              "      <td>0.032</td>\n",
              "      <td>29.0</td>\n",
              "      <td>112.0</td>\n",
              "      <td>0.99298</td>\n",
              "      <td>3.29</td>\n",
              "      <td>0.54</td>\n",
              "      <td>9.7</td>\n",
              "      <td>5</td>\n",
              "    </tr>\n",
              "    <tr>\n",
              "      <th>4893</th>\n",
              "      <td>6.2</td>\n",
              "      <td>0.210</td>\n",
              "      <td>0.29</td>\n",
              "      <td>1.60</td>\n",
              "      <td>0.039</td>\n",
              "      <td>24.0</td>\n",
              "      <td>92.0</td>\n",
              "      <td>0.99114</td>\n",
              "      <td>3.27</td>\n",
              "      <td>0.50</td>\n",
              "      <td>11.2</td>\n",
              "      <td>6</td>\n",
              "    </tr>\n",
              "    <tr>\n",
              "      <th>4894</th>\n",
              "      <td>6.6</td>\n",
              "      <td>0.320</td>\n",
              "      <td>0.36</td>\n",
              "      <td>8.00</td>\n",
              "      <td>0.047</td>\n",
              "      <td>57.0</td>\n",
              "      <td>168.0</td>\n",
              "      <td>0.99490</td>\n",
              "      <td>3.15</td>\n",
              "      <td>0.46</td>\n",
              "      <td>9.6</td>\n",
              "      <td>5</td>\n",
              "    </tr>\n",
              "    <tr>\n",
              "      <th>4895</th>\n",
              "      <td>6.5</td>\n",
              "      <td>0.240</td>\n",
              "      <td>0.19</td>\n",
              "      <td>1.20</td>\n",
              "      <td>0.041</td>\n",
              "      <td>30.0</td>\n",
              "      <td>111.0</td>\n",
              "      <td>0.99254</td>\n",
              "      <td>2.99</td>\n",
              "      <td>0.46</td>\n",
              "      <td>9.4</td>\n",
              "      <td>6</td>\n",
              "    </tr>\n",
              "    <tr>\n",
              "      <th>4896</th>\n",
              "      <td>5.5</td>\n",
              "      <td>0.290</td>\n",
              "      <td>0.30</td>\n",
              "      <td>1.10</td>\n",
              "      <td>0.022</td>\n",
              "      <td>20.0</td>\n",
              "      <td>110.0</td>\n",
              "      <td>0.98869</td>\n",
              "      <td>3.34</td>\n",
              "      <td>0.38</td>\n",
              "      <td>12.8</td>\n",
              "      <td>7</td>\n",
              "    </tr>\n",
              "    <tr>\n",
              "      <th>4897</th>\n",
              "      <td>6.0</td>\n",
              "      <td>0.210</td>\n",
              "      <td>0.38</td>\n",
              "      <td>0.80</td>\n",
              "      <td>0.020</td>\n",
              "      <td>22.0</td>\n",
              "      <td>98.0</td>\n",
              "      <td>0.98941</td>\n",
              "      <td>3.26</td>\n",
              "      <td>0.32</td>\n",
              "      <td>11.8</td>\n",
              "      <td>6</td>\n",
              "    </tr>\n",
              "  </tbody>\n",
              "</table>\n",
              "</div>"
            ],
            "text/plain": [
              "      fixed acidity  volatile acidity  citric acid  ...  sulphates  alcohol  quality\n",
              "4888            6.8             0.220         0.36  ...       0.54      9.2        5\n",
              "4889            4.9             0.235         0.27  ...       0.50      9.4        6\n",
              "4890            6.1             0.340         0.29  ...       0.44     11.8        6\n",
              "4891            5.7             0.210         0.32  ...       0.46     10.6        6\n",
              "4892            6.5             0.230         0.38  ...       0.54      9.7        5\n",
              "4893            6.2             0.210         0.29  ...       0.50     11.2        6\n",
              "4894            6.6             0.320         0.36  ...       0.46      9.6        5\n",
              "4895            6.5             0.240         0.19  ...       0.46      9.4        6\n",
              "4896            5.5             0.290         0.30  ...       0.38     12.8        7\n",
              "4897            6.0             0.210         0.38  ...       0.32     11.8        6\n",
              "\n",
              "[10 rows x 12 columns]"
            ]
          },
          "metadata": {
            "tags": []
          },
          "execution_count": 9
        }
      ]
    },
    {
      "cell_type": "markdown",
      "metadata": {
        "id": "Gp5W8byexYs3"
      },
      "source": [
        "# EDA"
      ]
    },
    {
      "cell_type": "code",
      "metadata": {
        "id": "mxb6aCnVMtUU",
        "outputId": "14780ff4-d011-4ce3-d56f-0bd6a45cce2d",
        "colab": {
          "base_uri": "https://localhost:8080/"
        }
      },
      "source": [
        "# how many classes has the target?\n",
        "\n",
        "df_wine.quality.unique()\n"
      ],
      "execution_count": 22,
      "outputs": [
        {
          "output_type": "execute_result",
          "data": {
            "text/plain": [
              "array([6, 5, 7, 8, 4, 3, 9])"
            ]
          },
          "metadata": {
            "tags": []
          },
          "execution_count": 22
        }
      ]
    },
    {
      "cell_type": "code",
      "metadata": {
        "id": "KWmOX3gQxS2s",
        "outputId": "dfe1aafc-ba44-4dc2-b80e-ca7f8d454c52",
        "colab": {
          "base_uri": "https://localhost:8080/"
        }
      },
      "source": [
        "# check df dimensions, how many rows? columns?\n",
        "df_wine.shape"
      ],
      "execution_count": 12,
      "outputs": [
        {
          "output_type": "execute_result",
          "data": {
            "text/plain": [
              "(4898, 12)"
            ]
          },
          "metadata": {
            "tags": []
          },
          "execution_count": 12
        }
      ]
    },
    {
      "cell_type": "code",
      "metadata": {
        "id": "098kg_wCxEVX",
        "outputId": "3567a6e1-9c57-4baf-aea0-c94f30070581",
        "colab": {
          "base_uri": "https://localhost:8080/"
        }
      },
      "source": [
        "# check how big is our dataset in KB/MB/GB\n",
        "df_wine.info()"
      ],
      "execution_count": 14,
      "outputs": [
        {
          "output_type": "stream",
          "text": [
            "<class 'pandas.core.frame.DataFrame'>\n",
            "RangeIndex: 4898 entries, 0 to 4897\n",
            "Data columns (total 12 columns):\n",
            " #   Column                Non-Null Count  Dtype  \n",
            "---  ------                --------------  -----  \n",
            " 0   fixed acidity         4898 non-null   float64\n",
            " 1   volatile acidity      4898 non-null   float64\n",
            " 2   citric acid           4898 non-null   float64\n",
            " 3   residual sugar        4898 non-null   float64\n",
            " 4   chlorides             4898 non-null   float64\n",
            " 5   free sulfur dioxide   4898 non-null   float64\n",
            " 6   total sulfur dioxide  4898 non-null   float64\n",
            " 7   density               4898 non-null   float64\n",
            " 8   pH                    4898 non-null   float64\n",
            " 9   sulphates             4898 non-null   float64\n",
            " 10  alcohol               4898 non-null   float64\n",
            " 11  quality               4898 non-null   int64  \n",
            "dtypes: float64(11), int64(1)\n",
            "memory usage: 459.3 KB\n"
          ],
          "name": "stdout"
        }
      ]
    },
    {
      "cell_type": "code",
      "metadata": {
        "id": "e6a4BG1puSVJ"
      },
      "source": [
        "# Describe\n",
        "df_wine.describe"
      ],
      "execution_count": null,
      "outputs": []
    },
    {
      "cell_type": "code",
      "metadata": {
        "id": "OkP69rRAO_gX",
        "outputId": "e5a50279-55cd-4287-85cc-61ebb814c5f0",
        "colab": {
          "base_uri": "https://localhost:8080/"
        }
      },
      "source": [
        "# missing values?\n",
        "df_wine.isna().sum()"
      ],
      "execution_count": 15,
      "outputs": [
        {
          "output_type": "execute_result",
          "data": {
            "text/plain": [
              "fixed acidity           0\n",
              "volatile acidity        0\n",
              "citric acid             0\n",
              "residual sugar          0\n",
              "chlorides               0\n",
              "free sulfur dioxide     0\n",
              "total sulfur dioxide    0\n",
              "density                 0\n",
              "pH                      0\n",
              "sulphates               0\n",
              "alcohol                 0\n",
              "quality                 0\n",
              "dtype: int64"
            ]
          },
          "metadata": {
            "tags": []
          },
          "execution_count": 15
        }
      ]
    },
    {
      "cell_type": "code",
      "metadata": {
        "id": "2KGyEwH1Pu10",
        "outputId": "0bf5d574-bf30-4cce-e6a0-acf5be96615e",
        "colab": {
          "base_uri": "https://localhost:8080/",
          "height": 679
        }
      },
      "source": [
        "# correlation matrix\n",
        "\n",
        "corr = df_wine.corr()\n",
        "plt.subplots(figsize=(15,10))\n",
        "sns.heatmap(corr, xticklabels=corr.columns, yticklabels=corr.columns, annot=True, cmap=sns.diverging_palette(220, 20, as_cmap=True))\n",
        "plt.show()\n",
        "\n",
        "# which variables are the most correlated?"
      ],
      "execution_count": 16,
      "outputs": [
        {
          "output_type": "display_data",
          "data": {
            "image/png": "[encoded data removed]",
            "text/plain": [
              "<Figure size 1080x720 with 2 Axes>"
            ]
          },
          "metadata": {
            "tags": [],
            "needs_background": "light"
          }
        }
      ]
    },
    {
      "cell_type": "code",
      "metadata": {
        "id": "YW_PpLRkq4UN",
        "outputId": "637a8af4-2cc2-452d-f272-9d2e2f11c214",
        "colab": {
          "base_uri": "https://localhost:8080/",
          "height": 596
        }
      },
      "source": [
        "\n",
        "df_wine_bkp = df_wine.copy()\n",
        "\n",
        "del df_wine['residual sugar']  # vs density\n",
        "del df_wine['free sulfur dioxide'] # vs total sulfur dioxide\n",
        "del df_wine['total sulfur dioxide'] # density\n",
        "\n",
        "corr = df_wine.corr()\n",
        "plt.subplots(figsize=(15,10))\n",
        "sns.heatmap(corr, xticklabels=corr.columns, yticklabels=corr.columns, annot=True, cmap=sns.diverging_palette(220, 20, as_cmap=True))\n",
        "plt.show()\n",
        "\n",
        "# do it again only with most relevant variables"
      ],
      "execution_count": 46,
      "outputs": [
        {
          "output_type": "display_data",
          "data": {
            "image/png": "[encoded data removed]",
            "text/plain": [
              "<Figure size 1080x720 with 2 Axes>"
            ]
          },
          "metadata": {
            "tags": [],
            "needs_background": "light"
          }
        }
      ]
    },
    {
      "cell_type": "markdown",
      "metadata": {
        "id": "NeKtE2oDq_Wz"
      },
      "source": [
        "## Now the hard part : TO SUPERVISED"
      ]
    },
    {
      "cell_type": "code",
      "metadata": {
        "id": "Tc7jc-omxY1F",
        "outputId": "eb74933e-0e0b-4e65-9721-51ba30022dcb",
        "colab": {
          "base_uri": "https://localhost:8080/",
          "height": 335
        }
      },
      "source": [
        "# EXTRA : barplot of quality.  TIPS : use sns.countplot(dataset['name of the column'])\n",
        "\n",
        "sns.countplot(df_wine['quality'])\n",
        "plt.show()"
      ],
      "execution_count": 20,
      "outputs": [
        {
          "output_type": "stream",
          "text": [
            "/usr/local/lib/python3.6/dist-packages/seaborn/_decorators.py:43: FutureWarning: Pass the following variable as a keyword arg: x. From version 0.12, the only valid positional argument will be `data`, and passing other arguments without an explicit keyword will result in an error or misinterpretation.\n",
            "  FutureWarning\n"
          ],
          "name": "stderr"
        },
        {
          "output_type": "display_data",
          "data": {
            "image/png": "[encoded data removed]",
            "text/plain": [
              "<Figure size 432x288 with 1 Axes>"
            ]
          },
          "metadata": {
            "tags": [],
            "needs_background": "light"
          }
        }
      ]
    },
    {
      "cell_type": "code",
      "metadata": {
        "id": "fNsPk99arknI"
      },
      "source": [
        "## We will come back soon . . . ."
      ],
      "execution_count": null,
      "outputs": []
    },
    {
      "cell_type": "code",
      "metadata": {
        "id": "rrwcwl-lR9AO",
        "outputId": "fe2a13bf-be9b-4f99-e126-5410431dda4a",
        "colab": {
          "base_uri": "https://localhost:8080/",
          "height": 198
        }
      },
      "source": [
        "category = []\n",
        "\n",
        "for qual in df_wine.quality.values:\n",
        "  if qual < 6:\n",
        "    category.append(1)\n",
        "  elif qual > 6:\n",
        "    category.append(3)\n",
        "  else:\n",
        "    category.append(2)\n",
        "\n",
        "df_wine['category'] = category\n",
        "\n",
        "del df_wine['quality']\n",
        "\n",
        "df_wine.head()\n",
        "\n"
      ],
      "execution_count": 47,
      "outputs": [
        {
          "output_type": "execute_result",
          "data": {
            "text/html": [
              "<div>\n",
              "<style scoped>\n",
              "    .dataframe tbody tr th:only-of-type {\n",
              "        vertical-align: middle;\n",
              "    }\n",
              "\n",
              "    .dataframe tbody tr th {\n",
              "        vertical-align: top;\n",
              "    }\n",
              "\n",
              "    .dataframe thead th {\n",
              "        text-align: right;\n",
              "    }\n",
              "</style>\n",
              "<table border=\"1\" class=\"dataframe\">\n",
              "  <thead>\n",
              "    <tr style=\"text-align: right;\">\n",
              "      <th></th>\n",
              "      <th>fixed acidity</th>\n",
              "      <th>volatile acidity</th>\n",
              "      <th>citric acid</th>\n",
              "      <th>chlorides</th>\n",
              "      <th>density</th>\n",
              "      <th>pH</th>\n",
              "      <th>sulphates</th>\n",
              "      <th>alcohol</th>\n",
              "      <th>category</th>\n",
              "    </tr>\n",
              "  </thead>\n",
              "  <tbody>\n",
              "    <tr>\n",
              "      <th>0</th>\n",
              "      <td>7.0</td>\n",
              "      <td>0.27</td>\n",
              "      <td>0.36</td>\n",
              "      <td>0.045</td>\n",
              "      <td>1.0010</td>\n",
              "      <td>3.00</td>\n",
              "      <td>0.45</td>\n",
              "      <td>8.8</td>\n",
              "      <td>2</td>\n",
              "    </tr>\n",
              "    <tr>\n",
              "      <th>1</th>\n",
              "      <td>6.3</td>\n",
              "      <td>0.30</td>\n",
              "      <td>0.34</td>\n",
              "      <td>0.049</td>\n",
              "      <td>0.9940</td>\n",
              "      <td>3.30</td>\n",
              "      <td>0.49</td>\n",
              "      <td>9.5</td>\n",
              "      <td>2</td>\n",
              "    </tr>\n",
              "    <tr>\n",
              "      <th>2</th>\n",
              "      <td>8.1</td>\n",
              "      <td>0.28</td>\n",
              "      <td>0.40</td>\n",
              "      <td>0.050</td>\n",
              "      <td>0.9951</td>\n",
              "      <td>3.26</td>\n",
              "      <td>0.44</td>\n",
              "      <td>10.1</td>\n",
              "      <td>2</td>\n",
              "    </tr>\n",
              "    <tr>\n",
              "      <th>3</th>\n",
              "      <td>7.2</td>\n",
              "      <td>0.23</td>\n",
              "      <td>0.32</td>\n",
              "      <td>0.058</td>\n",
              "      <td>0.9956</td>\n",
              "      <td>3.19</td>\n",
              "      <td>0.40</td>\n",
              "      <td>9.9</td>\n",
              "      <td>2</td>\n",
              "    </tr>\n",
              "    <tr>\n",
              "      <th>4</th>\n",
              "      <td>7.2</td>\n",
              "      <td>0.23</td>\n",
              "      <td>0.32</td>\n",
              "      <td>0.058</td>\n",
              "      <td>0.9956</td>\n",
              "      <td>3.19</td>\n",
              "      <td>0.40</td>\n",
              "      <td>9.9</td>\n",
              "      <td>2</td>\n",
              "    </tr>\n",
              "  </tbody>\n",
              "</table>\n",
              "</div>"
            ],
            "text/plain": [
              "   fixed acidity  volatile acidity  citric acid  ...  sulphates  alcohol  category\n",
              "0            7.0              0.27         0.36  ...       0.45      8.8         2\n",
              "1            6.3              0.30         0.34  ...       0.49      9.5         2\n",
              "2            8.1              0.28         0.40  ...       0.44     10.1         2\n",
              "3            7.2              0.23         0.32  ...       0.40      9.9         2\n",
              "4            7.2              0.23         0.32  ...       0.40      9.9         2\n",
              "\n",
              "[5 rows x 9 columns]"
            ]
          },
          "metadata": {
            "tags": []
          },
          "execution_count": 47
        }
      ]
    },
    {
      "cell_type": "code",
      "metadata": {
        "id": "l9NkE4TE2Xay",
        "outputId": "8ad94b94-542e-4e4b-c284-2df5c64952d4",
        "colab": {
          "base_uri": "https://localhost:8080/"
        }
      },
      "source": [
        "df_wine.category.unique()"
      ],
      "execution_count": 36,
      "outputs": [
        {
          "output_type": "execute_result",
          "data": {
            "text/plain": [
              "array([2, 1, 3])"
            ]
          },
          "metadata": {
            "tags": []
          },
          "execution_count": 36
        }
      ]
    },
    {
      "cell_type": "code",
      "metadata": {
        "id": "ZNjsyX672iJM",
        "outputId": "f7107565-0cc1-404b-e993-46ff5ab53b10",
        "colab": {
          "base_uri": "https://localhost:8080/",
          "height": 335
        }
      },
      "source": [
        "# EXTRA : barplot of quality.  TIPS : use sns.countplot(dataset['name of the column'])\n",
        "\n",
        "sns.countplot(df_wine['category'])\n",
        "plt.show()"
      ],
      "execution_count": 68,
      "outputs": [
        {
          "output_type": "stream",
          "text": [
            "/usr/local/lib/python3.6/dist-packages/seaborn/_decorators.py:43: FutureWarning: Pass the following variable as a keyword arg: x. From version 0.12, the only valid positional argument will be `data`, and passing other arguments without an explicit keyword will result in an error or misinterpretation.\n",
            "  FutureWarning\n"
          ],
          "name": "stderr"
        },
        {
          "output_type": "display_data",
          "data": {
            "image/png": "[encoded data removed]",
            "text/plain": [
              "<Figure size 432x288 with 1 Axes>"
            ]
          },
          "metadata": {
            "tags": [],
            "needs_background": "light"
          }
        }
      ]
    },
    {
      "cell_type": "code",
      "metadata": {
        "id": "VGo5EqgRSgeE",
        "outputId": "71f6890f-cd67-4346-f3aa-a65d7527e259",
        "colab": {
          "base_uri": "https://localhost:8080/"
        }
      },
      "source": [
        "# Data Splitting. TIPS : use train_test_split function\n",
        "\n",
        "# - 70/30\n",
        "# - add shuffle=True\n",
        "\n",
        "X_train,X_test,Y_train,Y_test=train_test_split(df_wine.drop(['category'], axis=1),df_wine['category'],test_size=0.30, shuffle=True)\n",
        "print(X_train.shape, X_test.shape, Y_train.shape, Y_test.shape)"
      ],
      "execution_count": 69,
      "outputs": [
        {
          "output_type": "stream",
          "text": [
            "(3428, 8) (1470, 8) (3428,) (1470,)\n"
          ],
          "name": "stdout"
        }
      ]
    },
    {
      "cell_type": "code",
      "metadata": {
        "id": "nlSlibmotjBP"
      },
      "source": [
        "# Are we ready for that??\n",
        "\n",
        "scalar=StandardScaler()\n",
        "X_train=scalar.fit_transform(X_train)\n",
        "X_test=scalar.fit_transform(X_test)"
      ],
      "execution_count": 70,
      "outputs": []
    },
    {
      "cell_type": "code",
      "metadata": {
        "id": "48k9V5Z8VTZZ",
        "outputId": "f0a4992c-50fc-434c-c1ab-e124be0ab40e",
        "colab": {
          "base_uri": "https://localhost:8080/"
        }
      },
      "source": [
        "# Logistic Regression\n",
        "\n",
        "%%time\n",
        "log_regressor=LogisticRegression(multi_class='multinomial') \n",
        "\n",
        "# FIT\n",
        "\n",
        "log_regressor.fit(X_train, Y_train)"
      ],
      "execution_count": 71,
      "outputs": [
        {
          "output_type": "stream",
          "text": [
            "CPU times: user 33.5 ms, sys: 0 ns, total: 33.5 ms\n",
            "Wall time: 36.7 ms\n"
          ],
          "name": "stdout"
        }
      ]
    },
    {
      "cell_type": "code",
      "metadata": {
        "id": "TYPacrMqx5gs",
        "outputId": "cd44ed82-d5df-4791-fa11-2b93882903fc",
        "colab": {
          "base_uri": "https://localhost:8080/"
        }
      },
      "source": [
        "# Score!\n",
        "\n",
        "score=log_regressor.score(X_test,Y_test)\n",
        "print('accuracy = {}'.format(score))\n",
        "\n",
        "# Write the accuracy formula TP, TN, ect ect"
      ],
      "execution_count": 76,
      "outputs": [
        {
          "output_type": "stream",
          "text": [
            "accuracy = 0.5904761904761905\n"
          ],
          "name": "stdout"
        }
      ]
    },
    {
      "cell_type": "code",
      "metadata": {
        "id": "FF38wW5uXMmz",
        "outputId": "11864155-e4de-4b2f-8daf-7002b89ca943",
        "colab": {
          "base_uri": "https://localhost:8080/"
        }
      },
      "source": [
        "# Confusion Matrix\n",
        "\n",
        "y_pred1 = log_regressor.predict(X_test)\n",
        "    \n",
        "print(classification_report(Y_test, y_pred1))"
      ],
      "execution_count": 73,
      "outputs": [
        {
          "output_type": "stream",
          "text": [
            "              precision    recall  f1-score   support\n",
            "\n",
            "           1       0.70      0.57      0.63       512\n",
            "           2       0.55      0.70      0.62       673\n",
            "           3       0.52      0.35      0.42       285\n",
            "\n",
            "    accuracy                           0.59      1470\n",
            "   macro avg       0.59      0.54      0.56      1470\n",
            "weighted avg       0.60      0.59      0.58      1470\n",
            "\n"
          ],
          "name": "stdout"
        }
      ]
    },
    {
      "cell_type": "code",
      "metadata": {
        "id": "jl2QawYlhtNF",
        "outputId": "ca389771-1a91-4757-ccd5-9f5f6687db66",
        "colab": {
          "base_uri": "https://localhost:8080/",
          "height": 465
        }
      },
      "source": [
        "# features importance\n",
        "\n",
        "importance = log_regressor.coef_\n",
        "\n",
        "# summarize feature importance\n",
        "for i,v in enumerate(importance[0]):\n",
        "    print('Feature: %0d, Score: %.5f' % (i,v))\n",
        "# plot feature importance\n",
        "plt.bar([x for x in range(len(importance[0]))], importance[0])\n",
        "plt.show()\n",
        "\n",
        "print(df_wine.columns[:7])"
      ],
      "execution_count": 77,
      "outputs": [
        {
          "output_type": "stream",
          "text": [
            "Feature: 0, Score: 0.15747\n",
            "Feature: 1, Score: 0.49934\n",
            "Feature: 2, Score: 0.03984\n",
            "Feature: 3, Score: 0.14322\n",
            "Feature: 4, Score: -0.31173\n",
            "Feature: 5, Score: 0.02973\n",
            "Feature: 6, Score: -0.12740\n",
            "Feature: 7, Score: -1.04264\n"
          ],
          "name": "stdout"
        },
        {
          "output_type": "display_data",
          "data": {
            "image/png": "[encoded data removed]",
            "text/plain": [
              "<Figure size 432x288 with 1 Axes>"
            ]
          },
          "metadata": {
            "tags": [],
            "needs_background": "light"
          }
        },
        {
          "output_type": "stream",
          "text": [
            "Index(['fixed acidity', 'volatile acidity', 'citric acid', 'chlorides',\n",
            "       'density', 'pH', 'sulphates'],\n",
            "      dtype='object')\n"
          ],
          "name": "stdout"
        }
      ]
    },
    {
      "cell_type": "markdown",
      "metadata": {
        "id": "VviUd6d-xcPV"
      },
      "source": [
        "# STOP!"
      ]
    },
    {
      "cell_type": "markdown",
      "metadata": {
        "id": "F7LNy3BlxO7H"
      },
      "source": [
        "## Learn how to Pipeline"
      ]
    },
    {
      "cell_type": "code",
      "metadata": {
        "id": "scchrRCu2m_c"
      },
      "source": [
        "# define which features\n",
        "numeric_features = ['fixed acidity', 'volatile acidity', 'citric acid']"
      ],
      "execution_count": 60,
      "outputs": []
    },
    {
      "cell_type": "code",
      "metadata": {
        "id": "GBDtsG462GvU",
        "outputId": "00e309e0-b569-4219-99f8-0a6fdd9fd2d1",
        "colab": {
          "base_uri": "https://localhost:8080/"
        }
      },
      "source": [
        "df_wine2 = df_wine[['fixed acidity', 'volatile acidity', 'citric acid', 'category']]\n",
        "X_train,X_test,Y_train,Y_test=train_test_split(df_wine2.drop(['category'], axis=1),df_wine2['category'],test_size=0.30, shuffle=True)\n",
        "print(X_train.shape, X_test.shape, Y_train.shape, Y_test.shape)\n"
      ],
      "execution_count": 61,
      "outputs": [
        {
          "output_type": "stream",
          "text": [
            "(3428, 3) (1470, 3) (3428,) (1470,)\n"
          ],
          "name": "stdout"
        }
      ]
    },
    {
      "cell_type": "code",
      "metadata": {
        "id": "fNkcjFw7zui7"
      },
      "source": [
        "numeric_transformer = Pipeline(steps=[('scaler', StandardScaler())])\n",
        "\n",
        "\n",
        "preprocessor = ColumnTransformer(\n",
        "    transformers=[\n",
        "                  ('num', numeric_transformer, numeric_features)])\n",
        "\n",
        "\n",
        "lor = LogisticRegression()\n",
        "\n",
        "clf = Pipeline([('preprocessor', preprocessor), \n",
        "                ('lor',lor)])"
      ],
      "execution_count": 62,
      "outputs": []
    },
    {
      "cell_type": "code",
      "metadata": {
        "id": "Hv32p8wBvi4h",
        "outputId": "b76243b6-5be3-41f0-879e-33df88236a0c",
        "colab": {
          "base_uri": "https://localhost:8080/"
        }
      },
      "source": [
        "clf.fit(X_train, Y_train)"
      ],
      "execution_count": 63,
      "outputs": [
        {
          "output_type": "execute_result",
          "data": {
            "text/plain": [
              "Pipeline(memory=None,\n",
              "         steps=[('preprocessor',\n",
              "                 ColumnTransformer(n_jobs=None, remainder='drop',\n",
              "                                   sparse_threshold=0.3,\n",
              "                                   transformer_weights=None,\n",
              "                                   transformers=[('num',\n",
              "                                                  Pipeline(memory=None,\n",
              "                                                           steps=[('scaler',\n",
              "                                                                   StandardScaler(copy=True,\n",
              "                                                                                  with_mean=True,\n",
              "                                                                                  with_std=True))],\n",
              "                                                           verbose=False),\n",
              "                                                  ['fixed acidity',\n",
              "                                                   'volatile acidity',\n",
              "                                                   'citric acid'])],\n",
              "                                   verbose=False)),\n",
              "                ('lor',\n",
              "                 LogisticRegression(C=1.0, class_weight=None, dual=False,\n",
              "                                    fit_intercept=True, intercept_scaling=1,\n",
              "                                    l1_ratio=None, max_iter=100,\n",
              "                                    multi_class='auto', n_jobs=None,\n",
              "                                    penalty='l2', random_state=None,\n",
              "                                    solver='lbfgs', tol=0.0001, verbose=0,\n",
              "                                    warm_start=False))],\n",
              "         verbose=False)"
            ]
          },
          "metadata": {
            "tags": []
          },
          "execution_count": 63
        }
      ]
    },
    {
      "cell_type": "code",
      "metadata": {
        "id": "F7GHbxn6vjsE"
      },
      "source": [
        "clf.score(X_test, Y_test)"
      ],
      "execution_count": null,
      "outputs": []
    },
    {
      "cell_type": "markdown",
      "metadata": {
        "id": "sGY9wBaP9x9V"
      },
      "source": [
        "# This is a real exercise . . . take your time ;)\n",
        "\n",
        "    I'd like to plot ROC curve for my model. After some online checks I found the following code with an error. What happened? How can I solve? \n",
        "\n",
        "*TIPS : questo non è un esercizio semplice. Cio che vorrei mettere in mostra è la reale esigenza di capire cosa si stia scrivendo in uno scenario reale e comune. INIZIATE DAL RESTO E LASCIATE QUESTO PER ULTIMO*"
      ]
    },
    {
      "cell_type": "code",
      "metadata": {
        "id": "0ZWVj96b3_fY",
        "outputId": "a1310d0c-0c91-4bbd-acd6-3b3996d1b61d",
        "colab": {
          "base_uri": "https://localhost:8080/",
          "height": 395
        }
      },
      "source": [
        "import sklearn.metrics as metrics\n",
        "roc = metrics.roc_curve(Y_test,log_regressor.predict_proba(X_test)[:,1])\n",
        "pr  = precision_recall_curve(Y_test,log_regressor.predict_proba(X_test)[:,1])\n",
        "\n",
        "\n",
        "f = plt.figure(figsize=(20,7))\n",
        "ax = f.add_subplot(121)\n",
        "ax.plot(roc[0],roc[1])\n",
        "ax.set_ylabel('True Positive Rate')\n",
        "ax.set_xlabel('False Positive Rate')\n",
        "ax.set_title('ROC Curve')\n",
        "ax.grid(which='both')\n",
        "ax = f.add_subplot(122)\n",
        "ax.plot(pr[1],pr[0])\n",
        "ax.set_ylabel('Precision')\n",
        "ax.set_xlabel('Recall')\n",
        "ax.set_title('PR-curve')\n",
        "ax.grid(which='both')\n",
        "plt.show()"
      ],
      "execution_count": 78,
      "outputs": [
        {
          "output_type": "error",
          "ename": "ValueError",
          "evalue": "ignored",
          "traceback": [
            "\u001b[0;31m---------------------------------------------------------------------------\u001b[0m",
            "\u001b[0;31mValueError\u001b[0m                                Traceback (most recent call last)",
            "\u001b[0;32m<ipython-input-78-c19f8fea09b6>\u001b[0m in \u001b[0;36m<module>\u001b[0;34m()\u001b[0m\n\u001b[1;32m      1\u001b[0m \u001b[0;32mimport\u001b[0m \u001b[0msklearn\u001b[0m\u001b[0;34m.\u001b[0m\u001b[0mmetrics\u001b[0m \u001b[0;32mas\u001b[0m \u001b[0mmetrics\u001b[0m\u001b[0;34m\u001b[0m\u001b[0;34m\u001b[0m\u001b[0m\n\u001b[0;32m----> 2\u001b[0;31m \u001b[0mroc\u001b[0m \u001b[0;34m=\u001b[0m \u001b[0mmetrics\u001b[0m\u001b[0;34m.\u001b[0m\u001b[0mroc_curve\u001b[0m\u001b[0;34m(\u001b[0m\u001b[0mY_test\u001b[0m\u001b[0;34m,\u001b[0m\u001b[0mlog_regressor\u001b[0m\u001b[0;34m.\u001b[0m\u001b[0mpredict_proba\u001b[0m\u001b[0;34m(\u001b[0m\u001b[0mX_test\u001b[0m\u001b[0;34m)\u001b[0m\u001b[0;34m[\u001b[0m\u001b[0;34m:\u001b[0m\u001b[0;34m,\u001b[0m\u001b[0;36m1\u001b[0m\u001b[0;34m]\u001b[0m\u001b[0;34m)\u001b[0m\u001b[0;34m\u001b[0m\u001b[0;34m\u001b[0m\u001b[0m\n\u001b[0m\u001b[1;32m      3\u001b[0m \u001b[0mpr\u001b[0m  \u001b[0;34m=\u001b[0m \u001b[0mprecision_recall_curve\u001b[0m\u001b[0;34m(\u001b[0m\u001b[0mY_test\u001b[0m\u001b[0;34m,\u001b[0m\u001b[0mlog_regressor\u001b[0m\u001b[0;34m.\u001b[0m\u001b[0mpredict_proba\u001b[0m\u001b[0;34m(\u001b[0m\u001b[0mX_test\u001b[0m\u001b[0;34m)\u001b[0m\u001b[0;34m[\u001b[0m\u001b[0;34m:\u001b[0m\u001b[0;34m,\u001b[0m\u001b[0;36m1\u001b[0m\u001b[0;34m]\u001b[0m\u001b[0;34m)\u001b[0m\u001b[0;34m\u001b[0m\u001b[0;34m\u001b[0m\u001b[0m\n\u001b[1;32m      4\u001b[0m \u001b[0;34m\u001b[0m\u001b[0m\n\u001b[1;32m      5\u001b[0m \u001b[0;34m\u001b[0m\u001b[0m\n",
            "\u001b[0;32m/usr/local/lib/python3.6/dist-packages/sklearn/metrics/_ranking.py\u001b[0m in \u001b[0;36mroc_curve\u001b[0;34m(y_true, y_score, pos_label, sample_weight, drop_intermediate)\u001b[0m\n\u001b[1;32m    769\u001b[0m     \"\"\"\n\u001b[1;32m    770\u001b[0m     fps, tps, thresholds = _binary_clf_curve(\n\u001b[0;32m--> 771\u001b[0;31m         y_true, y_score, pos_label=pos_label, sample_weight=sample_weight)\n\u001b[0m\u001b[1;32m    772\u001b[0m \u001b[0;34m\u001b[0m\u001b[0m\n\u001b[1;32m    773\u001b[0m     \u001b[0;31m# Attempt to drop thresholds corresponding to points in between and\u001b[0m\u001b[0;34m\u001b[0m\u001b[0;34m\u001b[0m\u001b[0;34m\u001b[0m\u001b[0m\n",
            "\u001b[0;32m/usr/local/lib/python3.6/dist-packages/sklearn/metrics/_ranking.py\u001b[0m in \u001b[0;36m_binary_clf_curve\u001b[0;34m(y_true, y_score, pos_label, sample_weight)\u001b[0m\n\u001b[1;32m    534\u001b[0m     if not (y_type == \"binary\" or\n\u001b[1;32m    535\u001b[0m             (y_type == \"multiclass\" and pos_label is not None)):\n\u001b[0;32m--> 536\u001b[0;31m         \u001b[0;32mraise\u001b[0m \u001b[0mValueError\u001b[0m\u001b[0;34m(\u001b[0m\u001b[0;34m\"{0} format is not supported\"\u001b[0m\u001b[0;34m.\u001b[0m\u001b[0mformat\u001b[0m\u001b[0;34m(\u001b[0m\u001b[0my_type\u001b[0m\u001b[0;34m)\u001b[0m\u001b[0;34m)\u001b[0m\u001b[0;34m\u001b[0m\u001b[0;34m\u001b[0m\u001b[0m\n\u001b[0m\u001b[1;32m    537\u001b[0m \u001b[0;34m\u001b[0m\u001b[0m\n\u001b[1;32m    538\u001b[0m     \u001b[0mcheck_consistent_length\u001b[0m\u001b[0;34m(\u001b[0m\u001b[0my_true\u001b[0m\u001b[0;34m,\u001b[0m \u001b[0my_score\u001b[0m\u001b[0;34m,\u001b[0m \u001b[0msample_weight\u001b[0m\u001b[0;34m)\u001b[0m\u001b[0;34m\u001b[0m\u001b[0;34m\u001b[0m\u001b[0m\n",
            "\u001b[0;31mValueError\u001b[0m: multiclass format is not supported"
          ]
        }
      ]
    },
    {
      "cell_type": "markdown",
      "metadata": {
        "id": "DeWZnKDNWjlz"
      },
      "source": [
        "# Decision Tree \n",
        "\n",
        "Classification and Regression Trees or CART for short is a term introduced by Leo Breiman to refer to Decision Tree algorithms that can be used for classification or regression predictive modeling problems.\n",
        "\n",
        "\n",
        "![](https://cdn-images-1.medium.com/max/688/0*pb-1ufHK-OmR8k7r.png)\n",
        "\n",
        "- Decision Trees (DTs) are a **non-parametric** supervised learning method used for classification and regression.\n",
        "\n",
        "\n",
        "*What does it means??*\n",
        "\n",
        "    EXPLAIN together:\n",
        "\n",
        "\n",
        "\n"
      ]
    },
    {
      "cell_type": "markdown",
      "metadata": {
        "id": "mS9bv6G5B2Mj"
      },
      "source": [
        "- no-parametric : no assumptions!\n",
        "- both classifications and regression\n",
        "\n"
      ]
    },
    {
      "cell_type": "markdown",
      "metadata": {
        "id": "aWkODQ_EB2Mk"
      },
      "source": [
        "**What about features and preprocessing?**\n",
        "\n",
        "- Feature values are preferred to be categorical. If the values are continuous then they are discretized prior to building the model.\n",
        "\n",
        "- Does not require special preprocessing of:\n",
        "    - missing data\n",
        "    - outliers\n",
        "    \n",
        "Why?"
      ]
    },
    {
      "cell_type": "markdown",
      "metadata": {
        "id": "uTG136qFB2Ml"
      },
      "source": [
        "## Splitting\n",
        "\n",
        "\n",
        "- The process of partitioning the data set into subsets\n",
        "\n",
        "![](https://cdn.educba.com/academy/wp-content/uploads/2019/05/splitting.png)\n",
        "\n",
        "\n",
        "## Pruning\n",
        "\n",
        "- Pruning is the process of reducing the size of the tree by turning some branch nodes into leaf nodes\n",
        "\n",
        "![](https://www.cs.cmu.edu/~bhiksha/courses/10-601/decisiontrees/DTprune.png)"
      ]
    },
    {
      "cell_type": "markdown",
      "metadata": {
        "id": "6CYWpnZtB2Ml"
      },
      "source": [
        "## How do we split?\n",
        "\n",
        "\n",
        "### CART \n",
        "\n",
        "(Classification and Regression Tree) uses the Gini index method to create split points.\n",
        "\n",
        "### GINI INDEX\n",
        "\n",
        "Gini Index, also known as Gini impurity, calculates the amount of probability of a specific feature that is classified incorrectly when selected randomly. \n",
        "\n",
        "\n",
        "$$ Gini = 1 - \\sum_jp_j^2 $$\n",
        "\n",
        "\n",
        "*If all the elements are linked with a single class then it can be called pure.*\n",
        "\n",
        "    total students = 10\n",
        "    \n",
        "    \n",
        "    Example (1):    \n",
        "    \n",
        "    good students = 10\n",
        "    bad students = 0 \n",
        "    \n",
        "$$ Gini = 1 - [ P(goodstudents)^2 + P(badstudents)^2] = 1 - (1^2 +0) = 0 $$\n",
        "\n",
        "\n",
        "    Example (2):\n",
        "    \n",
        "    good students = 5\n",
        "    bad students = 5\n",
        "    \n",
        "$$ Gini = 1 - [ P(goodstudents)^2 + P(badstudents)^2] = 1 - (0.5^2 +0.5^2) = 0.5 $$\n",
        "\n",
        "    Example (3):\n",
        "\n",
        "    good students = 7\n",
        "    bad students = 3\n",
        "    \n",
        "$$ Gini = 1 - [ P(goodstudents)^2 + P(badstudents)^2] = 1 - (0.75^2 +0.25^2) = 0.375 $$\n",
        "\n"
      ]
    },
    {
      "cell_type": "code",
      "metadata": {
        "ExecuteTime": {
          "end_time": "2020-11-16T16:40:47.506285Z",
          "start_time": "2020-11-16T16:40:47.371807Z"
        },
        "id": "4nPVTq08B2Mm",
        "outputId": "b915fb94-41ce-445b-a96a-a0ea29d922c8"
      },
      "source": [
        "#Numerical example :\n",
        "\n",
        "\n",
        "def gini(a,b):\n",
        "    a1 = (a/(a+b))**2\n",
        "    b1 = (b/(a+b))**2\n",
        "    return 1 - (a1 + b1)\n",
        "\n",
        "\n",
        "gini_list = []\n",
        "blue_list = []\n",
        "red_list = []\n",
        "blue_prob_list = []\n",
        "#Looping Gini function on random blue and red float amounts\n",
        "for x in range (10000):\n",
        "    blue = np.random.uniform(0, 4)\n",
        "    red = abs(4-blue)\n",
        "    a = gini(red,blue)\n",
        "    b = blue/(blue+red)\n",
        "    gini_list.append(a)\n",
        "    blue_list.append(blue)\n",
        "    red_list.append(red)\n",
        "    blue_prob_list.append(b)\n",
        "    \n",
        "df = pd.DataFrame({\"Blue\": blue_list, \"Red\": red_list,\"Gini Score\": gini_list, \"Probability of Blue\": blue_prob_list})\n",
        "df = df[[\"Red\", \"Blue\", \"Probability of Blue\", \"Gini Score\"]]\n",
        "df.head()"
      ],
      "execution_count": null,
      "outputs": [
        {
          "output_type": "execute_result",
          "data": {
            "text/html": [
              "<div>\n",
              "<style scoped>\n",
              "    .dataframe tbody tr th:only-of-type {\n",
              "        vertical-align: middle;\n",
              "    }\n",
              "\n",
              "    .dataframe tbody tr th {\n",
              "        vertical-align: top;\n",
              "    }\n",
              "\n",
              "    .dataframe thead th {\n",
              "        text-align: right;\n",
              "    }\n",
              "</style>\n",
              "<table border=\"1\" class=\"dataframe\">\n",
              "  <thead>\n",
              "    <tr style=\"text-align: right;\">\n",
              "      <th></th>\n",
              "      <th>Red</th>\n",
              "      <th>Blue</th>\n",
              "      <th>Probability of Blue</th>\n",
              "      <th>Gini Score</th>\n",
              "    </tr>\n",
              "  </thead>\n",
              "  <tbody>\n",
              "    <tr>\n",
              "      <th>0</th>\n",
              "      <td>1.755845</td>\n",
              "      <td>2.244155</td>\n",
              "      <td>0.561039</td>\n",
              "      <td>0.492549</td>\n",
              "    </tr>\n",
              "    <tr>\n",
              "      <th>1</th>\n",
              "      <td>3.473984</td>\n",
              "      <td>0.526016</td>\n",
              "      <td>0.131504</td>\n",
              "      <td>0.228421</td>\n",
              "    </tr>\n",
              "    <tr>\n",
              "      <th>2</th>\n",
              "      <td>1.991192</td>\n",
              "      <td>2.008808</td>\n",
              "      <td>0.502202</td>\n",
              "      <td>0.499990</td>\n",
              "    </tr>\n",
              "    <tr>\n",
              "      <th>3</th>\n",
              "      <td>3.155247</td>\n",
              "      <td>0.844753</td>\n",
              "      <td>0.211188</td>\n",
              "      <td>0.333176</td>\n",
              "    </tr>\n",
              "    <tr>\n",
              "      <th>4</th>\n",
              "      <td>1.832569</td>\n",
              "      <td>2.167431</td>\n",
              "      <td>0.541858</td>\n",
              "      <td>0.496496</td>\n",
              "    </tr>\n",
              "  </tbody>\n",
              "</table>\n",
              "</div>"
            ],
            "text/plain": [
              "        Red      Blue  Probability of Blue  Gini Score\n",
              "0  1.755845  2.244155             0.561039    0.492549\n",
              "1  3.473984  0.526016             0.131504    0.228421\n",
              "2  1.991192  2.008808             0.502202    0.499990\n",
              "3  3.155247  0.844753             0.211188    0.333176\n",
              "4  1.832569  2.167431             0.541858    0.496496"
            ]
          },
          "metadata": {
            "tags": []
          },
          "execution_count": 13
        }
      ]
    },
    {
      "cell_type": "code",
      "metadata": {
        "ExecuteTime": {
          "end_time": "2020-11-16T16:43:07.751962Z",
          "start_time": "2020-11-16T16:43:07.325972Z"
        },
        "id": "TpClk065B2Ms",
        "outputId": "3edeef8b-533d-49eb-ff86-78ef94225b47"
      },
      "source": [
        "plt.scatter(blue_prob_list,gini_list)\n",
        "plt.xlabel('Probability of Blue Gumball %')\n",
        "plt.ylabel('Gini')\n",
        "plt.title('Gini Curve')\n",
        "plt.show()"
      ],
      "execution_count": null,
      "outputs": [
        {
          "output_type": "display_data",
          "data": {
            "image/png": "[encoded data removed]",
            "text/plain": [
              "<Figure size 432x288 with 1 Axes>"
            ]
          },
          "metadata": {
            "tags": [],
            "needs_background": "light"
          }
        }
      ]
    },
    {
      "cell_type": "markdown",
      "metadata": {
        "id": "x2c3rmo4B2Mz"
      },
      "source": [
        "### How can we interpret the following picture?\n",
        "\n",
        "\n",
        "*Analogue to gini one*\n",
        "\n",
        "![](https://miro.medium.com/max/500/1*M15RZMSk8nGEyOnD8haF-A.png)\n",
        "\n",
        "\n",
        "Where :\n",
        "\n",
        "- The x-axis measures the proportion of data points belonging to the positive class in each bubble"
      ]
    },
    {
      "cell_type": "markdown",
      "metadata": {
        "id": "3ycu2Z0PB2Mz"
      },
      "source": [
        "### INFORMATION ENTROPY\n",
        "\n",
        "\n",
        "*This will be a bit more complex*\n",
        "\n",
        "$$ Entropy = - \\sum_j p_j * log_2(p_j) $$\n",
        "\n",
        "\n",
        "    Example (1) = 0 / (2)=1 \n",
        "    \n",
        "    (3)\n",
        "    \n",
        "\n",
        "$$ Entr = [(3/10)* log_2(3/10)]-[(7/10)* log_2(7/10)] = 0.811 $$"
      ]
    },
    {
      "cell_type": "markdown",
      "metadata": {
        "id": "PF1D5SRnB2M0"
      },
      "source": [
        "there are several ways to split : Entropy,\n",
        "Information gain,\n",
        "Gini index,\n",
        "Gain Ratio,\n",
        "Reduction in Variance\n",
        "Chi-Square"
      ]
    },
    {
      "cell_type": "markdown",
      "metadata": {
        "id": "eF4PYtT9B2M0"
      },
      "source": [
        "## Summarize\n",
        "\n",
        "\n",
        "- It begins with the original set S as the root node.\n",
        "\n",
        "- On each iteration of the algorithm, it iterates through the very unused attribute of the set S and calculates Entropy(H) and Information gain(IG) of this attribute.\n",
        "\n",
        "- It then selects the attribute which has the smallest Entropy or Largest Information gain.\n",
        "\n",
        "- The set S is then split by the selected attribute to produce a subset of the data.\n",
        "\n",
        "- The algorithm continues to recur on each subset, considering only attributes never selected before."
      ]
    },
    {
      "cell_type": "markdown",
      "metadata": {
        "id": "Klq1ImC5B2M1"
      },
      "source": [
        "## Ok . . . let's come back to our original task!"
      ]
    },
    {
      "cell_type": "code",
      "metadata": {
        "id": "xbrcaEGoyGS8",
        "outputId": "a595f7dd-323e-4c12-b18f-04c6e05d7bdc",
        "colab": {
          "base_uri": "https://localhost:8080/"
        }
      },
      "source": [
        "from sklearn.metrics import classification_report\n",
        "from sklearn.tree import DecisionTreeClassifier\n",
        "\n",
        "DT_class = DecisionTreeClassifier(random_state=1) #unecessary\n",
        "\n",
        "DT_class.fit(X_train, Y_train)\n",
        "\n",
        "y_pred1 = DT_class.predict(X_test)\n",
        "print(classification_report(Y_test, y_pred1))"
      ],
      "execution_count": 79,
      "outputs": [
        {
          "output_type": "stream",
          "text": [
            "              precision    recall  f1-score   support\n",
            "\n",
            "           1       0.66      0.61      0.63       512\n",
            "           2       0.61      0.62      0.61       673\n",
            "           3       0.51      0.58      0.54       285\n",
            "\n",
            "    accuracy                           0.60      1470\n",
            "   macro avg       0.59      0.60      0.60      1470\n",
            "weighted avg       0.61      0.60      0.61      1470\n",
            "\n"
          ],
          "name": "stdout"
        }
      ]
    },
    {
      "cell_type": "code",
      "metadata": {
        "id": "rNCd2VQEfwGU"
      },
      "source": [
        "Logistic\n",
        " \n",
        "              precision    recall  f1-score   support\n",
        "\n",
        "           1       0.70      0.57      0.63       512\n",
        "           2       0.55      0.70      0.62       673\n",
        "           3       0.52      0.35      0.42       285\n",
        "\n",
        "    accuracy                         **0.59**    1470\n",
        "   macro avg       0.59      0.54      0.56      1470\n",
        "weighted avg       0.60      0.59      0.58      1470"
      ],
      "execution_count": null,
      "outputs": []
    },
    {
      "cell_type": "markdown",
      "metadata": {
        "id": "7jKRpFxbB2M7"
      },
      "source": [
        "## Which is better Linear or tree-based models?\n",
        " \n",
        "*Well, it depends on the kind of problem you are solving.*\n",
        "\n",
        "- If the relationship between dependent & independent variables is well approximated by a linear model, linear regression will outperform the tree-based model.\n",
        "- If there is a high non-linearity & complex relationship between dependent & independent variables, a tree model will outperform a classical regression method.\n",
        "- If you need to build a model that is easy to explain to people, a decision tree model will always do better than a linear model. Decision tree models are even simpler to interpret than linear regression!\n",
        "- Missing data? Outliers?"
      ]
    },
    {
      "cell_type": "markdown",
      "metadata": {
        "id": "6VmlGqEjaKMJ"
      },
      "source": [
        "# Random Forest\n",
        "\n",
        "Random forests are an ensemble learning technique that builds off of decision trees.\n",
        "\n",
        "***Ensemble methods**, which combines several decision trees to produce better predictive performance than utilizing a single decision tree. The main principle behind the ensemble model is that a group of weak learners come together to form a strong learner.*\n",
        "\n",
        "![](https://www.researchgate.net/profile/Evaldas_Vaiciukynas/publication/301638643/figure/fig1/AS:355471899807744@1461762513154/Architecture-of-the-random-forest-model.png)\n",
        "\n",
        "\n",
        "### Why Random?\n",
        "\n",
        "Two key concepts that give it the name random:\n",
        "\n",
        "- A random sampling of training data set when building trees.\n",
        "  **(do you remember anything?)**\n",
        "\n",
        "- Random subsets of features considered when splitting nodes.\n",
        "\n",
        "\n",
        "\n",
        "We'll not discuss about :\n",
        "\n",
        "- Bagging\n",
        "- Boosting\n",
        "\n",
        "\n",
        "I'll give to you some material if you want to know more about this!\n",
        "\n",
        "We'll say that genereally speaking we would reduce the variance of a decision tree\n",
        "\n",
        "- Random sub-set of data\n",
        "- Random sub-set of features with replacement\n"
      ]
    },
    {
      "cell_type": "code",
      "metadata": {
        "id": "n-9gahCTyGP3",
        "outputId": "10bad57d-9a8e-4711-d889-d7e171c24831",
        "colab": {
          "base_uri": "https://localhost:8080/"
        }
      },
      "source": [
        "from sklearn.ensemble import RandomForestClassifier\n",
        "\n",
        "RF_class = RandomForestClassifier(random_state=1)\n",
        "\n",
        "RF_class.fit(X_train, Y_train)\n",
        "\n",
        "y_pred2 = RF_class.predict(X_test)\n",
        "print(classification_report(Y_test, y_pred2))\n"
      ],
      "execution_count": 80,
      "outputs": [
        {
          "output_type": "stream",
          "text": [
            "              precision    recall  f1-score   support\n",
            "\n",
            "           1       0.77      0.70      0.73       512\n",
            "           2       0.67      0.75      0.70       673\n",
            "           3       0.67      0.59      0.63       285\n",
            "\n",
            "    accuracy                           0.70      1470\n",
            "   macro avg       0.70      0.68      0.69      1470\n",
            "weighted avg       0.70      0.70      0.70      1470\n",
            "\n"
          ],
          "name": "stdout"
        }
      ]
    },
    {
      "cell_type": "code",
      "metadata": {
        "id": "gYQ5Rm5nhgcg",
        "outputId": "ff528ba3-47e4-4035-8471-80a5d484f000",
        "colab": {
          "base_uri": "https://localhost:8080/",
          "height": 69
        }
      },
      "source": [
        "# Interested in the complex version with K-fold and grid search?\n",
        "\"\"\"\n",
        "from sklearn.model_selection import StratifiedKFold\n",
        "from sklearn.model_selection import GridSearchCV\n",
        "\n",
        "clf = RandomForestClassifier(random_state=2018, oob_score=True)\n",
        "\n",
        "param_dist = {\"n_estimators\": [50, 100, 150, 200, 250],\n",
        "              'min_samples_leaf': [1, 2, 4]}\n",
        "\n",
        "rfc_gs = GridSearchCV(clf, param_grid=param_dist, scoring='accuracy', cv=5)\n",
        "\n",
        "rfc_gs.fit(X_train, Y_train)\n",
        "\"\"\""
      ],
      "execution_count": null,
      "outputs": [
        {
          "output_type": "execute_result",
          "data": {
            "application/vnd.google.colaboratory.intrinsic+json": {
              "type": "string"
            },
            "text/plain": [
              "'\\nfrom sklearn.model_selection import StratifiedKFold\\nfrom sklearn.model_selection import GridSearchCV\\n\\nclf = RandomForestClassifier(random_state=2018, oob_score=True)\\nparam_dist = {\"n_estimators\": [50, 100, 150, 200, 250],\\n              \\'min_samples_leaf\\': [1, 2, 4]}\\nrfc_gs = GridSearchCV(clf, param_grid=param_dist, scoring=\\'accuracy\\', cv=5)\\nrfc_gs.fit(X_train, Y_train)\\n'"
            ]
          },
          "metadata": {
            "tags": []
          },
          "execution_count": 374
        }
      ]
    },
    {
      "cell_type": "markdown",
      "metadata": {
        "id": "LdYfKabBbVF-"
      },
      "source": [
        "# XGBoost\n",
        "\n",
        "XGBoost provides a parallel tree boosting\n",
        "\n",
        "The two reasons to use XGBoost are also the two goals of the project:\n",
        "\n",
        "- Execution Speed.\n",
        "- Model Performance.\n",
        "\n"
      ]
    },
    {
      "cell_type": "code",
      "metadata": {
        "id": "VoXE6G6dyLEj",
        "outputId": "df1a3880-a5a0-4d60-81ee-1403084ec0d6",
        "colab": {
          "base_uri": "https://localhost:8080/"
        }
      },
      "source": [
        "import xgboost as xgb\n",
        "XGB_class = xgb.XGBClassifier(random_state=1)\n",
        "\n",
        "XGB_class.fit(X_train, Y_train)\n",
        "\n",
        "y_pred5 = XGB_class.predict(X_test)\n",
        "print(classification_report(Y_test, y_pred5))"
      ],
      "execution_count": 81,
      "outputs": [
        {
          "output_type": "stream",
          "text": [
            "              precision    recall  f1-score   support\n",
            "\n",
            "           1       0.70      0.60      0.65       512\n",
            "           2       0.57      0.68      0.62       673\n",
            "           3       0.53      0.43      0.47       285\n",
            "\n",
            "    accuracy                           0.61      1470\n",
            "   macro avg       0.60      0.57      0.58      1470\n",
            "weighted avg       0.61      0.61      0.60      1470\n",
            "\n"
          ],
          "name": "stdout"
        }
      ]
    },
    {
      "cell_type": "markdown",
      "metadata": {
        "id": "kUmZVoEYKBYV"
      },
      "source": [
        "## BREAK!"
      ]
    },
    {
      "cell_type": "markdown",
      "metadata": {
        "id": "EuoL9yrHB2NK"
      },
      "source": [
        "## Execises :\n",
        "\n",
        "You have several models :\n",
        "\n",
        "- Make a report explaining why you should chose a model instead of another based on metrics\n",
        "\n",
        "- are you able to plot a ROC Curve for each model? If yes, make a plot for each feature / model\n",
        "\n",
        "\n",
        "Extra :\n",
        "- look at pandas available datasets, load data (choose 1), and make some assumptions :\n",
        "    - which kind of ML is for? classification or regression?\n",
        "    - which models should I use?\n",
        "    - which model propably will perform better? why? (assumption, parametric or not, missing values? outliers? . . . )"
      ]
    }
  ]
}